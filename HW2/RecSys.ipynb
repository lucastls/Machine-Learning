{
 "cells": [
  {
   "cell_type": "code",
   "execution_count": 1,
   "metadata": {
    "collapsed": true
   },
   "outputs": [],
   "source": [
    "import pandas as pd\n",
    "import numpy as np\n",
    "import sklearn\n",
    "import math as mt\n",
    "from sklearn.feature_extraction.text import CountVectorizer,TfidfVectorizer\n",
    "from collections import Counter\n",
    "import matplotlib.pyplot as plt\n",
    "%matplotlib inline\n",
    "\n",
    "from operator import itemgetter\n",
    "from sklearn import metrics\n",
    "from sklearn.metrics.pairwise import cosine_similarity\n",
    "from sklearn.neighbors import NearestNeighbors\n",
    "from sklearn.linear_model import LogisticRegression\n",
    "from sklearn.model_selection import KFold\n",
    "from sklearn.model_selection import RepeatedKFold"
   ]
  },
  {
   "cell_type": "code",
   "execution_count": 2,
   "metadata": {
    "collapsed": true
   },
   "outputs": [],
   "source": [
    "def DCGp(i, p, rel):\n",
    "    tot = 0\n",
    "    for i in range(p):\n",
    "        tot += (2**rel[i]-1)/mt.log2((i+1)+1)\n",
    "    return tot"
   ]
  },
  {
   "cell_type": "code",
   "execution_count": 3,
   "metadata": {
    "collapsed": true
   },
   "outputs": [],
   "source": [
    "def IDCGp(i, rel):\n",
    "    tot = 0\n",
    "    for i in range(abs(rel)):\n",
    "        tot += (2**rel[i]-1)/mt.log2((i+1)+1)\n",
    "    return tot"
   ]
  },
  {
   "cell_type": "code",
   "execution_count": 4,
   "metadata": {
    "collapsed": true
   },
   "outputs": [],
   "source": [
    "def nDCGp(i, p, rel):\n",
    "    return DCGp(i, p, rel)/IDCGp(i, rel)"
   ]
  },
  {
   "cell_type": "code",
   "execution_count": 5,
   "metadata": {
    "collapsed": true
   },
   "outputs": [],
   "source": [
    "DF = pd.read_csv(\"citeulike-a/raw-data.csv\",encoding='ISO-8859-1')#'ISO-8859-1')"
   ]
  },
  {
   "cell_type": "code",
   "execution_count": 6,
   "metadata": {},
   "outputs": [
    {
     "data": {
      "text/html": [
       "<div>\n",
       "<style>\n",
       "    .dataframe thead tr:only-child th {\n",
       "        text-align: right;\n",
       "    }\n",
       "\n",
       "    .dataframe thead th {\n",
       "        text-align: left;\n",
       "    }\n",
       "\n",
       "    .dataframe tbody tr th {\n",
       "        vertical-align: top;\n",
       "    }\n",
       "</style>\n",
       "<table border=\"1\" class=\"dataframe\">\n",
       "  <thead>\n",
       "    <tr style=\"text-align: right;\">\n",
       "      <th></th>\n",
       "      <th>doc.id</th>\n",
       "      <th>title</th>\n",
       "      <th>citeulike.id</th>\n",
       "      <th>raw.title</th>\n",
       "      <th>raw.abstract</th>\n",
       "    </tr>\n",
       "  </thead>\n",
       "  <tbody>\n",
       "    <tr>\n",
       "      <th>0</th>\n",
       "      <td>1</td>\n",
       "      <td>the metabolic world of escherichia coli is not...</td>\n",
       "      <td>42.0</td>\n",
       "      <td>The metabolic world of Escherichia coli is not...</td>\n",
       "      <td>To elucidate the organizational and evolutiona...</td>\n",
       "    </tr>\n",
       "    <tr>\n",
       "      <th>1</th>\n",
       "      <td>2</td>\n",
       "      <td>reverse engineering of biological complexity</td>\n",
       "      <td>43.0</td>\n",
       "      <td>Reverse Engineering of Biological Complexity</td>\n",
       "      <td>Advanced technologies and biology have extreme...</td>\n",
       "    </tr>\n",
       "    <tr>\n",
       "      <th>2</th>\n",
       "      <td>3</td>\n",
       "      <td>exploring complex networks</td>\n",
       "      <td>44.0</td>\n",
       "      <td>Exploring complex networks</td>\n",
       "      <td>The study of networks pervades all of science,...</td>\n",
       "    </tr>\n",
       "    <tr>\n",
       "      <th>3</th>\n",
       "      <td>4</td>\n",
       "      <td>comparative assessment of largescale data sets...</td>\n",
       "      <td>46.0</td>\n",
       "      <td>Comparative assessment of large-scale data set...</td>\n",
       "      <td>Comprehensive protein protein interaction maps...</td>\n",
       "    </tr>\n",
       "    <tr>\n",
       "      <th>4</th>\n",
       "      <td>5</td>\n",
       "      <td>navigation in a small world</td>\n",
       "      <td>47.0</td>\n",
       "      <td>Navigation in a small world</td>\n",
       "      <td>The small-world phenomenon â the principle t...</td>\n",
       "    </tr>\n",
       "  </tbody>\n",
       "</table>\n",
       "</div>"
      ],
      "text/plain": [
       "   doc.id                                              title  citeulike.id  \\\n",
       "0       1  the metabolic world of escherichia coli is not...          42.0   \n",
       "1       2       reverse engineering of biological complexity          43.0   \n",
       "2       3                         exploring complex networks          44.0   \n",
       "3       4  comparative assessment of largescale data sets...          46.0   \n",
       "4       5                        navigation in a small world          47.0   \n",
       "\n",
       "                                           raw.title  \\\n",
       "0  The metabolic world of Escherichia coli is not...   \n",
       "1       Reverse Engineering of Biological Complexity   \n",
       "2                         Exploring complex networks   \n",
       "3  Comparative assessment of large-scale data set...   \n",
       "4                        Navigation in a small world   \n",
       "\n",
       "                                        raw.abstract  \n",
       "0  To elucidate the organizational and evolutiona...  \n",
       "1  Advanced technologies and biology have extreme...  \n",
       "2  The study of networks pervades all of science,...  \n",
       "3  Comprehensive protein protein interaction maps...  \n",
       "4  The small-world phenomenon â the principle t...  "
      ]
     },
     "execution_count": 6,
     "metadata": {},
     "output_type": "execute_result"
    }
   ],
   "source": [
    "DF.head()"
   ]
  },
  {
   "cell_type": "code",
   "execution_count": 7,
   "metadata": {},
   "outputs": [
    {
     "data": {
      "text/html": [
       "<div>\n",
       "<style>\n",
       "    .dataframe thead tr:only-child th {\n",
       "        text-align: right;\n",
       "    }\n",
       "\n",
       "    .dataframe thead th {\n",
       "        text-align: left;\n",
       "    }\n",
       "\n",
       "    .dataframe tbody tr th {\n",
       "        vertical-align: top;\n",
       "    }\n",
       "</style>\n",
       "<table border=\"1\" class=\"dataframe\">\n",
       "  <thead>\n",
       "    <tr style=\"text-align: right;\">\n",
       "      <th></th>\n",
       "      <th>doc.id</th>\n",
       "      <th>title</th>\n",
       "      <th>citeulike.id</th>\n",
       "      <th>raw.title</th>\n",
       "      <th>raw.abstract</th>\n",
       "    </tr>\n",
       "  </thead>\n",
       "  <tbody>\n",
       "    <tr>\n",
       "      <th>16975</th>\n",
       "      <td>16976</td>\n",
       "      <td>life is physics evolution as a collective phen...</td>\n",
       "      <td>8273254.0</td>\n",
       "      <td>Life is physics: evolution as a collective phe...</td>\n",
       "      <td>Evolution is the fundamental physical process ...</td>\n",
       "    </tr>\n",
       "    <tr>\n",
       "      <th>16976</th>\n",
       "      <td>16977</td>\n",
       "      <td>limitations of nextgeneration genome sequence ...</td>\n",
       "      <td>8290615.0</td>\n",
       "      <td>Limitations of next-generation genome sequence...</td>\n",
       "      <td>High-throughput sequencing technologies promis...</td>\n",
       "    </tr>\n",
       "    <tr>\n",
       "      <th>16977</th>\n",
       "      <td>16978</td>\n",
       "      <td>accurate inference of transcription factor bin...</td>\n",
       "      <td>8305197.0</td>\n",
       "      <td>Accurate inference of transcription factor bin...</td>\n",
       "      <td>Accurate functional annotation of regulatory e...</td>\n",
       "    </tr>\n",
       "    <tr>\n",
       "      <th>16978</th>\n",
       "      <td>16979</td>\n",
       "      <td>software that goes with the flow in systems bi...</td>\n",
       "      <td>8331304.0</td>\n",
       "      <td>Software that goes with the flow in systems bi...</td>\n",
       "      <td>ABSTRACT: A recent article in BMC Bioinformati...</td>\n",
       "    </tr>\n",
       "    <tr>\n",
       "      <th>16979</th>\n",
       "      <td>16980</td>\n",
       "      <td>a bacterium that can grow by using arsenic ins...</td>\n",
       "      <td>8349297.0</td>\n",
       "      <td>A Bacterium That Can Grow by Using Arsenic Ins...</td>\n",
       "      <td>Life is mostly composed of the elements carbon...</td>\n",
       "    </tr>\n",
       "  </tbody>\n",
       "</table>\n",
       "</div>"
      ],
      "text/plain": [
       "       doc.id                                              title  \\\n",
       "16975   16976  life is physics evolution as a collective phen...   \n",
       "16976   16977  limitations of nextgeneration genome sequence ...   \n",
       "16977   16978  accurate inference of transcription factor bin...   \n",
       "16978   16979  software that goes with the flow in systems bi...   \n",
       "16979   16980  a bacterium that can grow by using arsenic ins...   \n",
       "\n",
       "       citeulike.id                                          raw.title  \\\n",
       "16975     8273254.0  Life is physics: evolution as a collective phe...   \n",
       "16976     8290615.0  Limitations of next-generation genome sequence...   \n",
       "16977     8305197.0  Accurate inference of transcription factor bin...   \n",
       "16978     8331304.0  Software that goes with the flow in systems bi...   \n",
       "16979     8349297.0  A Bacterium That Can Grow by Using Arsenic Ins...   \n",
       "\n",
       "                                            raw.abstract  \n",
       "16975  Evolution is the fundamental physical process ...  \n",
       "16976  High-throughput sequencing technologies promis...  \n",
       "16977  Accurate functional annotation of regulatory e...  \n",
       "16978  ABSTRACT: A recent article in BMC Bioinformati...  \n",
       "16979  Life is mostly composed of the elements carbon...  "
      ]
     },
     "execution_count": 7,
     "metadata": {},
     "output_type": "execute_result"
    }
   ],
   "source": [
    "DF.tail()"
   ]
  },
  {
   "cell_type": "code",
   "execution_count": 8,
   "metadata": {},
   "outputs": [
    {
     "name": "stdout",
     "output_type": "stream",
     "text": [
      "<class 'pandas.core.frame.DataFrame'>\n",
      "RangeIndex: 16980 entries, 0 to 16979\n",
      "Data columns (total 5 columns):\n",
      "doc.id          16980 non-null int64\n",
      "title           16980 non-null object\n",
      "citeulike.id    16980 non-null float64\n",
      "raw.title       16980 non-null object\n",
      "raw.abstract    16980 non-null object\n",
      "dtypes: float64(1), int64(1), object(3)\n",
      "memory usage: 663.4+ KB\n"
     ]
    }
   ],
   "source": [
    "DF.info()"
   ]
  },
  {
   "cell_type": "code",
   "execution_count": 9,
   "metadata": {
    "collapsed": true
   },
   "outputs": [],
   "source": [
    "citations = pd.read_csv(\"citeulike-a/citations.dat\", header = None, delimiter='\\n')"
   ]
  },
  {
   "cell_type": "code",
   "execution_count": 10,
   "metadata": {
    "collapsed": true
   },
   "outputs": [],
   "source": [
    "citations.columns = [\"citations\"]"
   ]
  },
  {
   "cell_type": "code",
   "execution_count": 11,
   "metadata": {},
   "outputs": [
    {
     "name": "stdout",
     "output_type": "stream",
     "text": [
      "<class 'pandas.core.frame.DataFrame'>\n",
      "RangeIndex: 16980 entries, 0 to 16979\n",
      "Data columns (total 1 columns):\n",
      "citations    16980 non-null object\n",
      "dtypes: object(1)\n",
      "memory usage: 132.7+ KB\n"
     ]
    }
   ],
   "source": [
    "citations.info()"
   ]
  },
  {
   "cell_type": "code",
   "execution_count": 12,
   "metadata": {},
   "outputs": [
    {
     "data": {
      "text/html": [
       "<div>\n",
       "<style>\n",
       "    .dataframe thead tr:only-child th {\n",
       "        text-align: right;\n",
       "    }\n",
       "\n",
       "    .dataframe thead th {\n",
       "        text-align: left;\n",
       "    }\n",
       "\n",
       "    .dataframe tbody tr th {\n",
       "        vertical-align: top;\n",
       "    }\n",
       "</style>\n",
       "<table border=\"1\" class=\"dataframe\">\n",
       "  <thead>\n",
       "    <tr style=\"text-align: right;\">\n",
       "      <th></th>\n",
       "      <th>citations</th>\n",
       "    </tr>\n",
       "  </thead>\n",
       "  <tbody>\n",
       "    <tr>\n",
       "      <th>0</th>\n",
       "      <td>3 2 485 3284</td>\n",
       "    </tr>\n",
       "    <tr>\n",
       "      <th>1</th>\n",
       "      <td>16 42 43 60 113 116 161 252 1543 1782 1947 414...</td>\n",
       "    </tr>\n",
       "    <tr>\n",
       "      <th>2</th>\n",
       "      <td>85 0 4 5 10 11 15 23 27 28 48 52 79 106 368 46...</td>\n",
       "    </tr>\n",
       "    <tr>\n",
       "      <th>3</th>\n",
       "      <td>0</td>\n",
       "    </tr>\n",
       "    <tr>\n",
       "      <th>4</th>\n",
       "      <td>23 2 28 488 918 1200 1351 1861 1937 2289 3079 ...</td>\n",
       "    </tr>\n",
       "  </tbody>\n",
       "</table>\n",
       "</div>"
      ],
      "text/plain": [
       "                                           citations\n",
       "0                                       3 2 485 3284\n",
       "1  16 42 43 60 113 116 161 252 1543 1782 1947 414...\n",
       "2  85 0 4 5 10 11 15 23 27 28 48 52 79 106 368 46...\n",
       "3                                                  0\n",
       "4  23 2 28 488 918 1200 1351 1861 1937 2289 3079 ..."
      ]
     },
     "execution_count": 12,
     "metadata": {},
     "output_type": "execute_result"
    }
   ],
   "source": [
    "citations.head()"
   ]
  },
  {
   "cell_type": "code",
   "execution_count": 13,
   "metadata": {
    "collapsed": true
   },
   "outputs": [],
   "source": [
    "citations2=citations[1:len(citations)-1].copy()"
   ]
  },
  {
   "cell_type": "code",
   "execution_count": 14,
   "metadata": {
    "collapsed": true
   },
   "outputs": [],
   "source": [
    "#citations2.index.rename('doc.id',inplace=True)"
   ]
  },
  {
   "cell_type": "code",
   "execution_count": 15,
   "metadata": {
    "collapsed": true
   },
   "outputs": [],
   "source": [
    "citations2.reset_index(inplace=True)"
   ]
  },
  {
   "cell_type": "code",
   "execution_count": 16,
   "metadata": {},
   "outputs": [
    {
     "data": {
      "text/html": [
       "<div>\n",
       "<style>\n",
       "    .dataframe thead tr:only-child th {\n",
       "        text-align: right;\n",
       "    }\n",
       "\n",
       "    .dataframe thead th {\n",
       "        text-align: left;\n",
       "    }\n",
       "\n",
       "    .dataframe tbody tr th {\n",
       "        vertical-align: top;\n",
       "    }\n",
       "</style>\n",
       "<table border=\"1\" class=\"dataframe\">\n",
       "  <thead>\n",
       "    <tr style=\"text-align: right;\">\n",
       "      <th></th>\n",
       "      <th>index</th>\n",
       "      <th>citations</th>\n",
       "    </tr>\n",
       "  </thead>\n",
       "  <tbody>\n",
       "    <tr>\n",
       "      <th>16973</th>\n",
       "      <td>16974</td>\n",
       "      <td>12 1631 10468 10587 11949 12665 13198 14527 14...</td>\n",
       "    </tr>\n",
       "    <tr>\n",
       "      <th>16974</th>\n",
       "      <td>16975</td>\n",
       "      <td>16 420 6357 6371 9466 12007 12096 12660 13307 ...</td>\n",
       "    </tr>\n",
       "    <tr>\n",
       "      <th>16975</th>\n",
       "      <td>16976</td>\n",
       "      <td>8 7991 15184 15944 16272 16304 16451 16619 16722</td>\n",
       "    </tr>\n",
       "    <tr>\n",
       "      <th>16976</th>\n",
       "      <td>16977</td>\n",
       "      <td>14 418 10406 10558 11796 14709 15093 15248 152...</td>\n",
       "    </tr>\n",
       "    <tr>\n",
       "      <th>16977</th>\n",
       "      <td>16978</td>\n",
       "      <td>0</td>\n",
       "    </tr>\n",
       "  </tbody>\n",
       "</table>\n",
       "</div>"
      ],
      "text/plain": [
       "       index                                          citations\n",
       "16973  16974  12 1631 10468 10587 11949 12665 13198 14527 14...\n",
       "16974  16975  16 420 6357 6371 9466 12007 12096 12660 13307 ...\n",
       "16975  16976   8 7991 15184 15944 16272 16304 16451 16619 16722\n",
       "16976  16977  14 418 10406 10558 11796 14709 15093 15248 152...\n",
       "16977  16978                                                  0"
      ]
     },
     "execution_count": 16,
     "metadata": {},
     "output_type": "execute_result"
    }
   ],
   "source": [
    "citations2.tail()"
   ]
  },
  {
   "cell_type": "code",
   "execution_count": 17,
   "metadata": {},
   "outputs": [
    {
     "data": {
      "text/html": [
       "<div>\n",
       "<style>\n",
       "    .dataframe thead tr:only-child th {\n",
       "        text-align: right;\n",
       "    }\n",
       "\n",
       "    .dataframe thead th {\n",
       "        text-align: left;\n",
       "    }\n",
       "\n",
       "    .dataframe tbody tr th {\n",
       "        vertical-align: top;\n",
       "    }\n",
       "</style>\n",
       "<table border=\"1\" class=\"dataframe\">\n",
       "  <thead>\n",
       "    <tr style=\"text-align: right;\">\n",
       "      <th></th>\n",
       "      <th>doc.id</th>\n",
       "      <th>title</th>\n",
       "      <th>citeulike.id</th>\n",
       "      <th>raw.title</th>\n",
       "      <th>raw.abstract</th>\n",
       "      <th>index</th>\n",
       "      <th>citations</th>\n",
       "    </tr>\n",
       "  </thead>\n",
       "  <tbody>\n",
       "    <tr>\n",
       "      <th>0</th>\n",
       "      <td>1</td>\n",
       "      <td>the metabolic world of escherichia coli is not...</td>\n",
       "      <td>42.0</td>\n",
       "      <td>The metabolic world of Escherichia coli is not...</td>\n",
       "      <td>To elucidate the organizational and evolutiona...</td>\n",
       "      <td>1.0</td>\n",
       "      <td>16 42 43 60 113 116 161 252 1543 1782 1947 414...</td>\n",
       "    </tr>\n",
       "    <tr>\n",
       "      <th>1</th>\n",
       "      <td>2</td>\n",
       "      <td>reverse engineering of biological complexity</td>\n",
       "      <td>43.0</td>\n",
       "      <td>Reverse Engineering of Biological Complexity</td>\n",
       "      <td>Advanced technologies and biology have extreme...</td>\n",
       "      <td>2.0</td>\n",
       "      <td>85 0 4 5 10 11 15 23 27 28 48 52 79 106 368 46...</td>\n",
       "    </tr>\n",
       "    <tr>\n",
       "      <th>2</th>\n",
       "      <td>3</td>\n",
       "      <td>exploring complex networks</td>\n",
       "      <td>44.0</td>\n",
       "      <td>Exploring complex networks</td>\n",
       "      <td>The study of networks pervades all of science,...</td>\n",
       "      <td>3.0</td>\n",
       "      <td>0</td>\n",
       "    </tr>\n",
       "    <tr>\n",
       "      <th>3</th>\n",
       "      <td>4</td>\n",
       "      <td>comparative assessment of largescale data sets...</td>\n",
       "      <td>46.0</td>\n",
       "      <td>Comparative assessment of large-scale data set...</td>\n",
       "      <td>Comprehensive protein protein interaction maps...</td>\n",
       "      <td>4.0</td>\n",
       "      <td>23 2 28 488 918 1200 1351 1861 1937 2289 3079 ...</td>\n",
       "    </tr>\n",
       "    <tr>\n",
       "      <th>4</th>\n",
       "      <td>5</td>\n",
       "      <td>navigation in a small world</td>\n",
       "      <td>47.0</td>\n",
       "      <td>Navigation in a small world</td>\n",
       "      <td>The small-world phenomenon â the principle t...</td>\n",
       "      <td>5.0</td>\n",
       "      <td>37 2 15 22 23 28 254 469 477 481 483 484 485 4...</td>\n",
       "    </tr>\n",
       "    <tr>\n",
       "      <th>5</th>\n",
       "      <td>6</td>\n",
       "      <td>random graphs with arbitrary degree distributi...</td>\n",
       "      <td>48.0</td>\n",
       "      <td>Random graphs with arbitrary degree distributi...</td>\n",
       "      <td>Recent work on the structure of social network...</td>\n",
       "      <td>6.0</td>\n",
       "      <td>14 49 1533 3646 7689 8302 10608 11649 12757 12...</td>\n",
       "    </tr>\n",
       "    <tr>\n",
       "      <th>6</th>\n",
       "      <td>7</td>\n",
       "      <td>artificial gene networks for objective compari...</td>\n",
       "      <td>49.0</td>\n",
       "      <td>Artificial gene networks for objective compari...</td>\n",
       "      <td>Motivation: Large-scale gene expression profil...</td>\n",
       "      <td>7.0</td>\n",
       "      <td>1 169</td>\n",
       "    </tr>\n",
       "    <tr>\n",
       "      <th>7</th>\n",
       "      <td>8</td>\n",
       "      <td>the segment polarity network is a robust devel...</td>\n",
       "      <td>50.0</td>\n",
       "      <td>The segment polarity network is a robust devel...</td>\n",
       "      <td>All insects possess homologous segments, but s...</td>\n",
       "      <td>8.0</td>\n",
       "      <td>0</td>\n",
       "    </tr>\n",
       "    <tr>\n",
       "      <th>8</th>\n",
       "      <td>9</td>\n",
       "      <td>the evolutionary origin of complex features</td>\n",
       "      <td>52.0</td>\n",
       "      <td>The evolutionary origin of complex features.</td>\n",
       "      <td>A long-standing challenge to evolutionary theo...</td>\n",
       "      <td>9.0</td>\n",
       "      <td>9 3738 3757 4263 4298 6043 7014 9311 10171 15763</td>\n",
       "    </tr>\n",
       "    <tr>\n",
       "      <th>9</th>\n",
       "      <td>10</td>\n",
       "      <td>early language acquisition cracking the speech...</td>\n",
       "      <td>60.0</td>\n",
       "      <td>Early language acquisition: cracking the speec...</td>\n",
       "      <td>Infants learn language with remarkable speed, ...</td>\n",
       "      <td>10.0</td>\n",
       "      <td>10 2 15 477 1200 1217 3937 5058 5561 8649 8958</td>\n",
       "    </tr>\n",
       "    <tr>\n",
       "      <th>10</th>\n",
       "      <td>11</td>\n",
       "      <td>organization development and function of compl...</td>\n",
       "      <td>61.0</td>\n",
       "      <td>Organization, development and function of comp...</td>\n",
       "      <td>Recent research has revealed general principl...</td>\n",
       "      <td>11.0</td>\n",
       "      <td>10 2 15 753 1217 1813 4893 5058 5340 6299 8649</td>\n",
       "    </tr>\n",
       "    <tr>\n",
       "      <th>11</th>\n",
       "      <td>12</td>\n",
       "      <td>motifs in brain networks</td>\n",
       "      <td>62.0</td>\n",
       "      <td>Motifs in brain networks.</td>\n",
       "      <td>Complex brains have evolved a highly efficient...</td>\n",
       "      <td>12.0</td>\n",
       "      <td>0</td>\n",
       "    </tr>\n",
       "    <tr>\n",
       "      <th>12</th>\n",
       "      <td>13</td>\n",
       "      <td>diffusion on complex networks a way to probe t...</td>\n",
       "      <td>97.0</td>\n",
       "      <td>Diffusion on Complex Networks : A way to probe...</td>\n",
       "      <td>A diffusion process on complex networks is int...</td>\n",
       "      <td>13.0</td>\n",
       "      <td>16 62 80 118 205 753 1500 1655 1660 2285 4547 ...</td>\n",
       "    </tr>\n",
       "    <tr>\n",
       "      <th>13</th>\n",
       "      <td>14</td>\n",
       "      <td>topological generalizations of network motifs</td>\n",
       "      <td>98.0</td>\n",
       "      <td>Topological Generalizations of network motifs</td>\n",
       "      <td>Biological and technological networks contain ...</td>\n",
       "      <td>14.0</td>\n",
       "      <td>0</td>\n",
       "    </tr>\n",
       "    <tr>\n",
       "      <th>14</th>\n",
       "      <td>15</td>\n",
       "      <td>collective dynamics of smallworld networks</td>\n",
       "      <td>99.0</td>\n",
       "      <td>Collective dynamics of 'small-world' networks.</td>\n",
       "      <td>Networks of coupled dynamical systems have bee...</td>\n",
       "      <td>15.0</td>\n",
       "      <td>62 2 5 10 11 23 26 28 49 50 60 116 118 208 254...</td>\n",
       "    </tr>\n",
       "    <tr>\n",
       "      <th>15</th>\n",
       "      <td>16</td>\n",
       "      <td>network motifs simple building blocks of compl...</td>\n",
       "      <td>101.0</td>\n",
       "      <td>Network motifs: simple building blocks of comp...</td>\n",
       "      <td>Complex networks are studied across many field...</td>\n",
       "      <td>16.0</td>\n",
       "      <td>48 17 28 52 67 144 189 216 226 246 1226 1346 2...</td>\n",
       "    </tr>\n",
       "    <tr>\n",
       "      <th>16</th>\n",
       "      <td>17</td>\n",
       "      <td>authoritative sources in a hyperlinked environ...</td>\n",
       "      <td>102.0</td>\n",
       "      <td>Authoritative sources in a hyperlinked environ...</td>\n",
       "      <td>The network structure of a hyperlinked environ...</td>\n",
       "      <td>17.0</td>\n",
       "      <td>3 16 3413 3421</td>\n",
       "    </tr>\n",
       "    <tr>\n",
       "      <th>17</th>\n",
       "      <td>18</td>\n",
       "      <td>the anatomy of a largescale hypertextual web s...</td>\n",
       "      <td>114.0</td>\n",
       "      <td>The anatomy of a large-scale hypertextual Web ...</td>\n",
       "      <td>Abstract In this paper, we present Google, a p...</td>\n",
       "      <td>18.0</td>\n",
       "      <td>11 28 469 1200 1955 1958 2206 3930 4925 6495 8...</td>\n",
       "    </tr>\n",
       "    <tr>\n",
       "      <th>18</th>\n",
       "      <td>19</td>\n",
       "      <td>spectra and eigenvectors of scalefree networks</td>\n",
       "      <td>122.0</td>\n",
       "      <td>Spectra and eigenvectors of scale-free networks.</td>\n",
       "      <td>We study the spectra and eigenvectors of the a...</td>\n",
       "      <td>19.0</td>\n",
       "      <td>0</td>\n",
       "    </tr>\n",
       "    <tr>\n",
       "      <th>19</th>\n",
       "      <td>20</td>\n",
       "      <td>spectra of random graphs with given expected d...</td>\n",
       "      <td>123.0</td>\n",
       "      <td>Spectra of random graphs with given expected d...</td>\n",
       "      <td>In the study of the spectra of power-law graph...</td>\n",
       "      <td>20.0</td>\n",
       "      <td>2 1602 2368</td>\n",
       "    </tr>\n",
       "    <tr>\n",
       "      <th>20</th>\n",
       "      <td>21</td>\n",
       "      <td>functional discovery via a compendium of expre...</td>\n",
       "      <td>124.0</td>\n",
       "      <td>Functional discovery via a compendium of expre...</td>\n",
       "      <td>Ascertaining the impact of uncharacterized per...</td>\n",
       "      <td>21.0</td>\n",
       "      <td>13 676 918 1351 3079 4834 5660 6166 6495 6979 ...</td>\n",
       "    </tr>\n",
       "    <tr>\n",
       "      <th>21</th>\n",
       "      <td>22</td>\n",
       "      <td>growing and navigating the small world web by ...</td>\n",
       "      <td>127.0</td>\n",
       "      <td>Growing and navigating the small world Web by ...</td>\n",
       "      <td>Can we model the scale-free distribution of We...</td>\n",
       "      <td>22.0</td>\n",
       "      <td>7 5 23 477 2038 2411 3185 3946</td>\n",
       "    </tr>\n",
       "    <tr>\n",
       "      <th>22</th>\n",
       "      <td>23</td>\n",
       "      <td>the structure of scientific collaboration netw...</td>\n",
       "      <td>128.0</td>\n",
       "      <td>The structure of scientific collaboration netw...</td>\n",
       "      <td>The structure of scientific collaboration netw...</td>\n",
       "      <td>23.0</td>\n",
       "      <td>52 2 5 15 22 27 28 39 48 113 469 477 481 483 4...</td>\n",
       "    </tr>\n",
       "    <tr>\n",
       "      <th>23</th>\n",
       "      <td>24</td>\n",
       "      <td>classes of smallworld networks</td>\n",
       "      <td>129.0</td>\n",
       "      <td>Classes of small-world networks</td>\n",
       "      <td>We study the statistical properties of a varie...</td>\n",
       "      <td>24.0</td>\n",
       "      <td>0</td>\n",
       "    </tr>\n",
       "    <tr>\n",
       "      <th>24</th>\n",
       "      <td>25</td>\n",
       "      <td>spectra of realworld graphs beyond the semicir...</td>\n",
       "      <td>139.0</td>\n",
       "      <td>Spectra of \"real-world\" graphs: beyond the sem...</td>\n",
       "      <td>Many natural and social systems develop comple...</td>\n",
       "      <td>25.0</td>\n",
       "      <td>21 1660 2638 2724 2815 4503 4798 7248 7634 798...</td>\n",
       "    </tr>\n",
       "    <tr>\n",
       "      <th>25</th>\n",
       "      <td>26</td>\n",
       "      <td>multistability in the lactose utilization netw...</td>\n",
       "      <td>148.0</td>\n",
       "      <td>Multistability in the lactose utilization netw...</td>\n",
       "      <td>Multistability, the capacity to achieve multip...</td>\n",
       "      <td>26.0</td>\n",
       "      <td>67 15 81 204 205 252 254 485 753 781 1575 1810...</td>\n",
       "    </tr>\n",
       "    <tr>\n",
       "      <th>26</th>\n",
       "      <td>27</td>\n",
       "      <td>protein complexes and functional modules in mo...</td>\n",
       "      <td>151.0</td>\n",
       "      <td>Protein complexes and functional modules in mo...</td>\n",
       "      <td>Proteins, nucleic acids, and small molecules f...</td>\n",
       "      <td>27.0</td>\n",
       "      <td>57 2 23 52 468 469 485 489 703 704 813 1200 19...</td>\n",
       "    </tr>\n",
       "    <tr>\n",
       "      <th>27</th>\n",
       "      <td>28</td>\n",
       "      <td>finding and evaluating community structure in ...</td>\n",
       "      <td>154.0</td>\n",
       "      <td>Finding and evaluating community structure in ...</td>\n",
       "      <td>We propose and study a set of algorithms for d...</td>\n",
       "      <td>28.0</td>\n",
       "      <td>64 2 4 5 15 16 18 23 247 469 477 484 485 486 4...</td>\n",
       "    </tr>\n",
       "    <tr>\n",
       "      <th>28</th>\n",
       "      <td>29</td>\n",
       "      <td>the structure and function of complex networks</td>\n",
       "      <td>155.0</td>\n",
       "      <td>The structure and function of complex networks</td>\n",
       "      <td>Inspired by empirical studies of networked sys...</td>\n",
       "      <td>29.0</td>\n",
       "      <td>26 921 2216 2220 2228 2235 2315 4908 6256 6611...</td>\n",
       "    </tr>\n",
       "    <tr>\n",
       "      <th>29</th>\n",
       "      <td>30</td>\n",
       "      <td>matching words and pictures</td>\n",
       "      <td>156.0</td>\n",
       "      <td>Matching words and pictures</td>\n",
       "      <td>We present a new approach for modeling multi-m...</td>\n",
       "      <td>30.0</td>\n",
       "      <td>6 657 2283 6639 8208 8598 8965</td>\n",
       "    </tr>\n",
       "    <tr>\n",
       "      <th>...</th>\n",
       "      <td>...</td>\n",
       "      <td>...</td>\n",
       "      <td>...</td>\n",
       "      <td>...</td>\n",
       "      <td>...</td>\n",
       "      <td>...</td>\n",
       "      <td>...</td>\n",
       "    </tr>\n",
       "    <tr>\n",
       "      <th>16950</th>\n",
       "      <td>16951</td>\n",
       "      <td>data structures and compression algorithms for...</td>\n",
       "      <td>8017832.0</td>\n",
       "      <td>Data structures and compression algorithms for...</td>\n",
       "      <td>BACKGROUND:High-throughput sequencing (HTS) te...</td>\n",
       "      <td>16951.0</td>\n",
       "      <td>3 441 7697 15355</td>\n",
       "    </tr>\n",
       "    <tr>\n",
       "      <th>16951</th>\n",
       "      <td>16952</td>\n",
       "      <td>atomiclevel characterization of the structural...</td>\n",
       "      <td>8018468.0</td>\n",
       "      <td>Atomic-Level Characterization of the Structura...</td>\n",
       "      <td>Molecular dynamics (MD) simulations are widely...</td>\n",
       "      <td>16952.0</td>\n",
       "      <td>4 2550 2551 14267 16585</td>\n",
       "    </tr>\n",
       "    <tr>\n",
       "      <th>16952</th>\n",
       "      <td>16953</td>\n",
       "      <td>twitter mood predicts the stock market</td>\n",
       "      <td>8020393.0</td>\n",
       "      <td>Twitter mood predicts the stock market</td>\n",
       "      <td>Behavioral economics tells us that emotions ca...</td>\n",
       "      <td>16953.0</td>\n",
       "      <td>4 13393 13410 14922 15633</td>\n",
       "    </tr>\n",
       "    <tr>\n",
       "      <th>16953</th>\n",
       "      <td>16954</td>\n",
       "      <td>comparing de novo assemblers for transcriptome...</td>\n",
       "      <td>8031121.0</td>\n",
       "      <td>Comparing de novo assemblers for 454 transcrip...</td>\n",
       "      <td>BACKGROUND:Roche 454 pyrosequencing has become...</td>\n",
       "      <td>16954.0</td>\n",
       "      <td>20 1631 3402 9286 12080 12562 12997 13198 1384...</td>\n",
       "    </tr>\n",
       "    <tr>\n",
       "      <th>16954</th>\n",
       "      <td>16955</td>\n",
       "      <td>statistical analysis strategies for associatio...</td>\n",
       "      <td>8044039.0</td>\n",
       "      <td>Statistical analysis strategies for associatio...</td>\n",
       "      <td>The limitations of genome-wide association (GW...</td>\n",
       "      <td>16955.0</td>\n",
       "      <td>1 13567</td>\n",
       "    </tr>\n",
       "    <tr>\n",
       "      <th>16955</th>\n",
       "      <td>16956</td>\n",
       "      <td>names are key to the big new biology</td>\n",
       "      <td>8050403.0</td>\n",
       "      <td>Names are key to the big new biology</td>\n",
       "      <td>Those who seek answers to big, broad question...</td>\n",
       "      <td>16956.0</td>\n",
       "      <td>0</td>\n",
       "    </tr>\n",
       "    <tr>\n",
       "      <th>16956</th>\n",
       "      <td>16957</td>\n",
       "      <td>the peculiar velocity field constraining the t...</td>\n",
       "      <td>8062101.0</td>\n",
       "      <td>The peculiar velocity field: constraining the ...</td>\n",
       "      <td>A large bulk flow, which is in tension with th...</td>\n",
       "      <td>16957.0</td>\n",
       "      <td>1 10661</td>\n",
       "    </tr>\n",
       "    <tr>\n",
       "      <th>16957</th>\n",
       "      <td>16958</td>\n",
       "      <td>nonsynonymous and synonymous coding snps show ...</td>\n",
       "      <td>8126391.0</td>\n",
       "      <td>Non-synonymous and synonymous coding SNPs show...</td>\n",
       "      <td>Many DNA variants have been identified on more...</td>\n",
       "      <td>16958.0</td>\n",
       "      <td>1 16717</td>\n",
       "    </tr>\n",
       "    <tr>\n",
       "      <th>16958</th>\n",
       "      <td>16959</td>\n",
       "      <td>conflicts of interest at medical journals the ...</td>\n",
       "      <td>8130437.0</td>\n",
       "      <td>Conflicts of Interest at Medical Journals: The...</td>\n",
       "      <td>Transparency in reporting of conflict of inter...</td>\n",
       "      <td>16959.0</td>\n",
       "      <td>0</td>\n",
       "    </tr>\n",
       "    <tr>\n",
       "      <th>16959</th>\n",
       "      <td>16960</td>\n",
       "      <td>a map of human genome variation from populatio...</td>\n",
       "      <td>8133402.0</td>\n",
       "      <td>A map of human genome variation from populatio...</td>\n",
       "      <td>The 1000 Genomes Project aims to provide a dee...</td>\n",
       "      <td>16960.0</td>\n",
       "      <td>5 13840 14354 16077 16316 16618</td>\n",
       "    </tr>\n",
       "    <tr>\n",
       "      <th>16960</th>\n",
       "      <td>16961</td>\n",
       "      <td>the patterns and dynamics of genomic instabili...</td>\n",
       "      <td>8133692.0</td>\n",
       "      <td>The patterns and dynamics of genomic instabili...</td>\n",
       "      <td>Pancreatic cancer is an aggressive malignancy ...</td>\n",
       "      <td>16961.0</td>\n",
       "      <td>2 14354 16449</td>\n",
       "    </tr>\n",
       "    <tr>\n",
       "      <th>16961</th>\n",
       "      <td>16962</td>\n",
       "      <td>distant metastasis occurs late during the gene...</td>\n",
       "      <td>8133695.0</td>\n",
       "      <td>Distant metastasis occurs late during the gene...</td>\n",
       "      <td>Metastasis, the dissemination and growth of ne...</td>\n",
       "      <td>16962.0</td>\n",
       "      <td>9 14366 14843 15870 15879 15890 15944 16272 16...</td>\n",
       "    </tr>\n",
       "    <tr>\n",
       "      <th>16962</th>\n",
       "      <td>16963</td>\n",
       "      <td>wholegenome sequencing and comprehensive varia...</td>\n",
       "      <td>8136692.0</td>\n",
       "      <td>Whole-genome sequencing and comprehensive vari...</td>\n",
       "      <td>We report the analysis of a Japanese male usin...</td>\n",
       "      <td>16963.0</td>\n",
       "      <td>10 975 8166 8682 12219 13563 14378 15092 15944...</td>\n",
       "    </tr>\n",
       "    <tr>\n",
       "      <th>16963</th>\n",
       "      <td>16964</td>\n",
       "      <td>diversity of human copy number variation and m...</td>\n",
       "      <td>8140882.0</td>\n",
       "      <td>Diversity of human copy number variation and m...</td>\n",
       "      <td>Copy number variants affect both disease and n...</td>\n",
       "      <td>16964.0</td>\n",
       "      <td>8 9217 14376 15184 15659 15710 16164 16205 16434</td>\n",
       "    </tr>\n",
       "    <tr>\n",
       "      <th>16964</th>\n",
       "      <td>16965</td>\n",
       "      <td>dindel accurate indel calls from shortread data</td>\n",
       "      <td>8148870.0</td>\n",
       "      <td>Dindel: Accurate indel calls from short-read d...</td>\n",
       "      <td>Small insertions and deletions (indels) are a ...</td>\n",
       "      <td>16965.0</td>\n",
       "      <td>0</td>\n",
       "    </tr>\n",
       "    <tr>\n",
       "      <th>16965</th>\n",
       "      <td>16966</td>\n",
       "      <td>simultaneous falsification of lcdm and quintes...</td>\n",
       "      <td>8175043.0</td>\n",
       "      <td>Simultaneous Falsification of LCDM and Quintes...</td>\n",
       "      <td>Observation of even a single massive cluster, ...</td>\n",
       "      <td>16966.0</td>\n",
       "      <td>2 9338 16704</td>\n",
       "    </tr>\n",
       "    <tr>\n",
       "      <th>16966</th>\n",
       "      <td>16967</td>\n",
       "      <td>cagrid workflow toolkit a taverna based workfl...</td>\n",
       "      <td>8208972.0</td>\n",
       "      <td>CaGrid Workflow Toolkit: A taverna based workf...</td>\n",
       "      <td>BACKGROUND:In biological and medical domain, t...</td>\n",
       "      <td>16967.0</td>\n",
       "      <td>2 2528 3835</td>\n",
       "    </tr>\n",
       "    <tr>\n",
       "      <th>16967</th>\n",
       "      <td>16968</td>\n",
       "      <td>exploring the universe of protein structures b...</td>\n",
       "      <td>8210118.0</td>\n",
       "      <td>Exploring the Universe of Protein Structures b...</td>\n",
       "      <td>It is currently believed that the atlas of exi...</td>\n",
       "      <td>16968.0</td>\n",
       "      <td>2 15041 16884</td>\n",
       "    </tr>\n",
       "    <tr>\n",
       "      <th>16968</th>\n",
       "      <td>16969</td>\n",
       "      <td>fragseq transcriptomewide rna structure probin...</td>\n",
       "      <td>8218284.0</td>\n",
       "      <td>FragSeq: transcriptome-wide RNA structure prob...</td>\n",
       "      <td>Classical approaches to determine structures o...</td>\n",
       "      <td>16969.0</td>\n",
       "      <td>6 13378 15390 16105 16428 16441 16625</td>\n",
       "    </tr>\n",
       "    <tr>\n",
       "      <th>16969</th>\n",
       "      <td>16970</td>\n",
       "      <td>the honey bee epigenomes differential methylat...</td>\n",
       "      <td>8229116.0</td>\n",
       "      <td>The Honey Bee Epigenomes: Differential Methyla...</td>\n",
       "      <td>In honey bees ( Apis mellifera ) the behaviora...</td>\n",
       "      <td>16970.0</td>\n",
       "      <td>2 8221 12798</td>\n",
       "    </tr>\n",
       "    <tr>\n",
       "      <th>16970</th>\n",
       "      <td>16971</td>\n",
       "      <td>transposable element insertions have strongly ...</td>\n",
       "      <td>8243817.0</td>\n",
       "      <td>Transposable element insertions have strongly ...</td>\n",
       "      <td>Comparison of a full collection of the transpo...</td>\n",
       "      <td>16971.0</td>\n",
       "      <td>0</td>\n",
       "    </tr>\n",
       "    <tr>\n",
       "      <th>16971</th>\n",
       "      <td>16972</td>\n",
       "      <td>experimental demonstration of informationtoene...</td>\n",
       "      <td>8245179.0</td>\n",
       "      <td>Experimental demonstration of information-to-e...</td>\n",
       "      <td>In 1929, LeÃ³ SzilÃ¡rd invented a feedback pro...</td>\n",
       "      <td>16972.0</td>\n",
       "      <td>8 1659 3963 5640 7255 10821 13542 13996 14703</td>\n",
       "    </tr>\n",
       "    <tr>\n",
       "      <th>16972</th>\n",
       "      <td>16973</td>\n",
       "      <td>genetic interactions reveal the evolutionary t...</td>\n",
       "      <td>8255128.0</td>\n",
       "      <td>Genetic interactions reveal the evolutionary t...</td>\n",
       "      <td>The characterization of functional redundancy ...</td>\n",
       "      <td>16973.0</td>\n",
       "      <td>0</td>\n",
       "    </tr>\n",
       "    <tr>\n",
       "      <th>16973</th>\n",
       "      <td>16974</td>\n",
       "      <td>concentric circles in wmap data may provide ev...</td>\n",
       "      <td>8266079.0</td>\n",
       "      <td>Concentric circles in WMAP data may provide ev...</td>\n",
       "      <td>Conformal cyclic cosmology (CCC) posits the ex...</td>\n",
       "      <td>16974.0</td>\n",
       "      <td>12 1631 10468 10587 11949 12665 13198 14527 14...</td>\n",
       "    </tr>\n",
       "    <tr>\n",
       "      <th>16974</th>\n",
       "      <td>16975</td>\n",
       "      <td>analysing biological pathways in genomewide as...</td>\n",
       "      <td>8270407.0</td>\n",
       "      <td>Analysing biological pathways in genome-wide a...</td>\n",
       "      <td>Genome-wide association (GWA) studies have ty...</td>\n",
       "      <td>16975.0</td>\n",
       "      <td>16 420 6357 6371 9466 12007 12096 12660 13307 ...</td>\n",
       "    </tr>\n",
       "    <tr>\n",
       "      <th>16975</th>\n",
       "      <td>16976</td>\n",
       "      <td>life is physics evolution as a collective phen...</td>\n",
       "      <td>8273254.0</td>\n",
       "      <td>Life is physics: evolution as a collective phe...</td>\n",
       "      <td>Evolution is the fundamental physical process ...</td>\n",
       "      <td>16976.0</td>\n",
       "      <td>8 7991 15184 15944 16272 16304 16451 16619 16722</td>\n",
       "    </tr>\n",
       "    <tr>\n",
       "      <th>16976</th>\n",
       "      <td>16977</td>\n",
       "      <td>limitations of nextgeneration genome sequence ...</td>\n",
       "      <td>8290615.0</td>\n",
       "      <td>Limitations of next-generation genome sequence...</td>\n",
       "      <td>High-throughput sequencing technologies promis...</td>\n",
       "      <td>16977.0</td>\n",
       "      <td>14 418 10406 10558 11796 14709 15093 15248 152...</td>\n",
       "    </tr>\n",
       "    <tr>\n",
       "      <th>16977</th>\n",
       "      <td>16978</td>\n",
       "      <td>accurate inference of transcription factor bin...</td>\n",
       "      <td>8305197.0</td>\n",
       "      <td>Accurate inference of transcription factor bin...</td>\n",
       "      <td>Accurate functional annotation of regulatory e...</td>\n",
       "      <td>16978.0</td>\n",
       "      <td>0</td>\n",
       "    </tr>\n",
       "    <tr>\n",
       "      <th>16978</th>\n",
       "      <td>16979</td>\n",
       "      <td>software that goes with the flow in systems bi...</td>\n",
       "      <td>8331304.0</td>\n",
       "      <td>Software that goes with the flow in systems bi...</td>\n",
       "      <td>ABSTRACT: A recent article in BMC Bioinformati...</td>\n",
       "      <td>NaN</td>\n",
       "      <td>NaN</td>\n",
       "    </tr>\n",
       "    <tr>\n",
       "      <th>16979</th>\n",
       "      <td>16980</td>\n",
       "      <td>a bacterium that can grow by using arsenic ins...</td>\n",
       "      <td>8349297.0</td>\n",
       "      <td>A Bacterium That Can Grow by Using Arsenic Ins...</td>\n",
       "      <td>Life is mostly composed of the elements carbon...</td>\n",
       "      <td>NaN</td>\n",
       "      <td>NaN</td>\n",
       "    </tr>\n",
       "  </tbody>\n",
       "</table>\n",
       "<p>16980 rows × 7 columns</p>\n",
       "</div>"
      ],
      "text/plain": [
       "       doc.id                                              title  \\\n",
       "0           1  the metabolic world of escherichia coli is not...   \n",
       "1           2       reverse engineering of biological complexity   \n",
       "2           3                         exploring complex networks   \n",
       "3           4  comparative assessment of largescale data sets...   \n",
       "4           5                        navigation in a small world   \n",
       "5           6  random graphs with arbitrary degree distributi...   \n",
       "6           7  artificial gene networks for objective compari...   \n",
       "7           8  the segment polarity network is a robust devel...   \n",
       "8           9        the evolutionary origin of complex features   \n",
       "9          10  early language acquisition cracking the speech...   \n",
       "10         11  organization development and function of compl...   \n",
       "11         12                           motifs in brain networks   \n",
       "12         13  diffusion on complex networks a way to probe t...   \n",
       "13         14      topological generalizations of network motifs   \n",
       "14         15         collective dynamics of smallworld networks   \n",
       "15         16  network motifs simple building blocks of compl...   \n",
       "16         17  authoritative sources in a hyperlinked environ...   \n",
       "17         18  the anatomy of a largescale hypertextual web s...   \n",
       "18         19     spectra and eigenvectors of scalefree networks   \n",
       "19         20  spectra of random graphs with given expected d...   \n",
       "20         21  functional discovery via a compendium of expre...   \n",
       "21         22  growing and navigating the small world web by ...   \n",
       "22         23  the structure of scientific collaboration netw...   \n",
       "23         24                     classes of smallworld networks   \n",
       "24         25  spectra of realworld graphs beyond the semicir...   \n",
       "25         26  multistability in the lactose utilization netw...   \n",
       "26         27  protein complexes and functional modules in mo...   \n",
       "27         28  finding and evaluating community structure in ...   \n",
       "28         29     the structure and function of complex networks   \n",
       "29         30                        matching words and pictures   \n",
       "...       ...                                                ...   \n",
       "16950   16951  data structures and compression algorithms for...   \n",
       "16951   16952  atomiclevel characterization of the structural...   \n",
       "16952   16953             twitter mood predicts the stock market   \n",
       "16953   16954  comparing de novo assemblers for transcriptome...   \n",
       "16954   16955  statistical analysis strategies for associatio...   \n",
       "16955   16956               names are key to the big new biology   \n",
       "16956   16957  the peculiar velocity field constraining the t...   \n",
       "16957   16958  nonsynonymous and synonymous coding snps show ...   \n",
       "16958   16959  conflicts of interest at medical journals the ...   \n",
       "16959   16960  a map of human genome variation from populatio...   \n",
       "16960   16961  the patterns and dynamics of genomic instabili...   \n",
       "16961   16962  distant metastasis occurs late during the gene...   \n",
       "16962   16963  wholegenome sequencing and comprehensive varia...   \n",
       "16963   16964  diversity of human copy number variation and m...   \n",
       "16964   16965    dindel accurate indel calls from shortread data   \n",
       "16965   16966  simultaneous falsification of lcdm and quintes...   \n",
       "16966   16967  cagrid workflow toolkit a taverna based workfl...   \n",
       "16967   16968  exploring the universe of protein structures b...   \n",
       "16968   16969  fragseq transcriptomewide rna structure probin...   \n",
       "16969   16970  the honey bee epigenomes differential methylat...   \n",
       "16970   16971  transposable element insertions have strongly ...   \n",
       "16971   16972  experimental demonstration of informationtoene...   \n",
       "16972   16973  genetic interactions reveal the evolutionary t...   \n",
       "16973   16974  concentric circles in wmap data may provide ev...   \n",
       "16974   16975  analysing biological pathways in genomewide as...   \n",
       "16975   16976  life is physics evolution as a collective phen...   \n",
       "16976   16977  limitations of nextgeneration genome sequence ...   \n",
       "16977   16978  accurate inference of transcription factor bin...   \n",
       "16978   16979  software that goes with the flow in systems bi...   \n",
       "16979   16980  a bacterium that can grow by using arsenic ins...   \n",
       "\n",
       "       citeulike.id                                          raw.title  \\\n",
       "0              42.0  The metabolic world of Escherichia coli is not...   \n",
       "1              43.0       Reverse Engineering of Biological Complexity   \n",
       "2              44.0                         Exploring complex networks   \n",
       "3              46.0  Comparative assessment of large-scale data set...   \n",
       "4              47.0                        Navigation in a small world   \n",
       "5              48.0  Random graphs with arbitrary degree distributi...   \n",
       "6              49.0  Artificial gene networks for objective compari...   \n",
       "7              50.0  The segment polarity network is a robust devel...   \n",
       "8              52.0       The evolutionary origin of complex features.   \n",
       "9              60.0  Early language acquisition: cracking the speec...   \n",
       "10             61.0  Organization, development and function of comp...   \n",
       "11             62.0                          Motifs in brain networks.   \n",
       "12             97.0  Diffusion on Complex Networks : A way to probe...   \n",
       "13             98.0      Topological Generalizations of network motifs   \n",
       "14             99.0     Collective dynamics of 'small-world' networks.   \n",
       "15            101.0  Network motifs: simple building blocks of comp...   \n",
       "16            102.0  Authoritative sources in a hyperlinked environ...   \n",
       "17            114.0  The anatomy of a large-scale hypertextual Web ...   \n",
       "18            122.0   Spectra and eigenvectors of scale-free networks.   \n",
       "19            123.0  Spectra of random graphs with given expected d...   \n",
       "20            124.0  Functional discovery via a compendium of expre...   \n",
       "21            127.0  Growing and navigating the small world Web by ...   \n",
       "22            128.0  The structure of scientific collaboration netw...   \n",
       "23            129.0                    Classes of small-world networks   \n",
       "24            139.0  Spectra of \"real-world\" graphs: beyond the sem...   \n",
       "25            148.0  Multistability in the lactose utilization netw...   \n",
       "26            151.0  Protein complexes and functional modules in mo...   \n",
       "27            154.0  Finding and evaluating community structure in ...   \n",
       "28            155.0     The structure and function of complex networks   \n",
       "29            156.0                        Matching words and pictures   \n",
       "...             ...                                                ...   \n",
       "16950     8017832.0  Data structures and compression algorithms for...   \n",
       "16951     8018468.0  Atomic-Level Characterization of the Structura...   \n",
       "16952     8020393.0             Twitter mood predicts the stock market   \n",
       "16953     8031121.0  Comparing de novo assemblers for 454 transcrip...   \n",
       "16954     8044039.0  Statistical analysis strategies for associatio...   \n",
       "16955     8050403.0               Names are key to the big new biology   \n",
       "16956     8062101.0  The peculiar velocity field: constraining the ...   \n",
       "16957     8126391.0  Non-synonymous and synonymous coding SNPs show...   \n",
       "16958     8130437.0  Conflicts of Interest at Medical Journals: The...   \n",
       "16959     8133402.0  A map of human genome variation from populatio...   \n",
       "16960     8133692.0  The patterns and dynamics of genomic instabili...   \n",
       "16961     8133695.0  Distant metastasis occurs late during the gene...   \n",
       "16962     8136692.0  Whole-genome sequencing and comprehensive vari...   \n",
       "16963     8140882.0  Diversity of human copy number variation and m...   \n",
       "16964     8148870.0  Dindel: Accurate indel calls from short-read d...   \n",
       "16965     8175043.0  Simultaneous Falsification of LCDM and Quintes...   \n",
       "16966     8208972.0  CaGrid Workflow Toolkit: A taverna based workf...   \n",
       "16967     8210118.0  Exploring the Universe of Protein Structures b...   \n",
       "16968     8218284.0  FragSeq: transcriptome-wide RNA structure prob...   \n",
       "16969     8229116.0  The Honey Bee Epigenomes: Differential Methyla...   \n",
       "16970     8243817.0  Transposable element insertions have strongly ...   \n",
       "16971     8245179.0  Experimental demonstration of information-to-e...   \n",
       "16972     8255128.0  Genetic interactions reveal the evolutionary t...   \n",
       "16973     8266079.0  Concentric circles in WMAP data may provide ev...   \n",
       "16974     8270407.0  Analysing biological pathways in genome-wide a...   \n",
       "16975     8273254.0  Life is physics: evolution as a collective phe...   \n",
       "16976     8290615.0  Limitations of next-generation genome sequence...   \n",
       "16977     8305197.0  Accurate inference of transcription factor bin...   \n",
       "16978     8331304.0  Software that goes with the flow in systems bi...   \n",
       "16979     8349297.0  A Bacterium That Can Grow by Using Arsenic Ins...   \n",
       "\n",
       "                                            raw.abstract    index  \\\n",
       "0      To elucidate the organizational and evolutiona...      1.0   \n",
       "1      Advanced technologies and biology have extreme...      2.0   \n",
       "2      The study of networks pervades all of science,...      3.0   \n",
       "3      Comprehensive protein protein interaction maps...      4.0   \n",
       "4      The small-world phenomenon â the principle t...      5.0   \n",
       "5      Recent work on the structure of social network...      6.0   \n",
       "6      Motivation: Large-scale gene expression profil...      7.0   \n",
       "7      All insects possess homologous segments, but s...      8.0   \n",
       "8      A long-standing challenge to evolutionary theo...      9.0   \n",
       "9      Infants learn language with remarkable speed, ...     10.0   \n",
       "10      Recent research has revealed general principl...     11.0   \n",
       "11     Complex brains have evolved a highly efficient...     12.0   \n",
       "12     A diffusion process on complex networks is int...     13.0   \n",
       "13     Biological and technological networks contain ...     14.0   \n",
       "14     Networks of coupled dynamical systems have bee...     15.0   \n",
       "15     Complex networks are studied across many field...     16.0   \n",
       "16     The network structure of a hyperlinked environ...     17.0   \n",
       "17     Abstract In this paper, we present Google, a p...     18.0   \n",
       "18     We study the spectra and eigenvectors of the a...     19.0   \n",
       "19     In the study of the spectra of power-law graph...     20.0   \n",
       "20     Ascertaining the impact of uncharacterized per...     21.0   \n",
       "21     Can we model the scale-free distribution of We...     22.0   \n",
       "22     The structure of scientific collaboration netw...     23.0   \n",
       "23     We study the statistical properties of a varie...     24.0   \n",
       "24     Many natural and social systems develop comple...     25.0   \n",
       "25     Multistability, the capacity to achieve multip...     26.0   \n",
       "26     Proteins, nucleic acids, and small molecules f...     27.0   \n",
       "27     We propose and study a set of algorithms for d...     28.0   \n",
       "28     Inspired by empirical studies of networked sys...     29.0   \n",
       "29     We present a new approach for modeling multi-m...     30.0   \n",
       "...                                                  ...      ...   \n",
       "16950  BACKGROUND:High-throughput sequencing (HTS) te...  16951.0   \n",
       "16951  Molecular dynamics (MD) simulations are widely...  16952.0   \n",
       "16952  Behavioral economics tells us that emotions ca...  16953.0   \n",
       "16953  BACKGROUND:Roche 454 pyrosequencing has become...  16954.0   \n",
       "16954  The limitations of genome-wide association (GW...  16955.0   \n",
       "16955   Those who seek answers to big, broad question...  16956.0   \n",
       "16956  A large bulk flow, which is in tension with th...  16957.0   \n",
       "16957  Many DNA variants have been identified on more...  16958.0   \n",
       "16958  Transparency in reporting of conflict of inter...  16959.0   \n",
       "16959  The 1000 Genomes Project aims to provide a dee...  16960.0   \n",
       "16960  Pancreatic cancer is an aggressive malignancy ...  16961.0   \n",
       "16961  Metastasis, the dissemination and growth of ne...  16962.0   \n",
       "16962  We report the analysis of a Japanese male usin...  16963.0   \n",
       "16963  Copy number variants affect both disease and n...  16964.0   \n",
       "16964  Small insertions and deletions (indels) are a ...  16965.0   \n",
       "16965  Observation of even a single massive cluster, ...  16966.0   \n",
       "16966  BACKGROUND:In biological and medical domain, t...  16967.0   \n",
       "16967  It is currently believed that the atlas of exi...  16968.0   \n",
       "16968  Classical approaches to determine structures o...  16969.0   \n",
       "16969  In honey bees ( Apis mellifera ) the behaviora...  16970.0   \n",
       "16970  Comparison of a full collection of the transpo...  16971.0   \n",
       "16971  In 1929, LeÃ³ SzilÃ¡rd invented a feedback pro...  16972.0   \n",
       "16972  The characterization of functional redundancy ...  16973.0   \n",
       "16973  Conformal cyclic cosmology (CCC) posits the ex...  16974.0   \n",
       "16974   Genome-wide association (GWA) studies have ty...  16975.0   \n",
       "16975  Evolution is the fundamental physical process ...  16976.0   \n",
       "16976  High-throughput sequencing technologies promis...  16977.0   \n",
       "16977  Accurate functional annotation of regulatory e...  16978.0   \n",
       "16978  ABSTRACT: A recent article in BMC Bioinformati...      NaN   \n",
       "16979  Life is mostly composed of the elements carbon...      NaN   \n",
       "\n",
       "                                               citations  \n",
       "0      16 42 43 60 113 116 161 252 1543 1782 1947 414...  \n",
       "1      85 0 4 5 10 11 15 23 27 28 48 52 79 106 368 46...  \n",
       "2                                                      0  \n",
       "3      23 2 28 488 918 1200 1351 1861 1937 2289 3079 ...  \n",
       "4      37 2 15 22 23 28 254 469 477 481 483 484 485 4...  \n",
       "5      14 49 1533 3646 7689 8302 10608 11649 12757 12...  \n",
       "6                                                  1 169  \n",
       "7                                                      0  \n",
       "8       9 3738 3757 4263 4298 6043 7014 9311 10171 15763  \n",
       "9         10 2 15 477 1200 1217 3937 5058 5561 8649 8958  \n",
       "10        10 2 15 753 1217 1813 4893 5058 5340 6299 8649  \n",
       "11                                                     0  \n",
       "12     16 62 80 118 205 753 1500 1655 1660 2285 4547 ...  \n",
       "13                                                     0  \n",
       "14     62 2 5 10 11 23 26 28 49 50 60 116 118 208 254...  \n",
       "15     48 17 28 52 67 144 189 216 226 246 1226 1346 2...  \n",
       "16                                        3 16 3413 3421  \n",
       "17     11 28 469 1200 1955 1958 2206 3930 4925 6495 8...  \n",
       "18                                                     0  \n",
       "19                                           2 1602 2368  \n",
       "20     13 676 918 1351 3079 4834 5660 6166 6495 6979 ...  \n",
       "21                        7 5 23 477 2038 2411 3185 3946  \n",
       "22     52 2 5 15 22 27 28 39 48 113 469 477 481 483 4...  \n",
       "23                                                     0  \n",
       "24     21 1660 2638 2724 2815 4503 4798 7248 7634 798...  \n",
       "25     67 15 81 204 205 252 254 485 753 781 1575 1810...  \n",
       "26     57 2 23 52 468 469 485 489 703 704 813 1200 19...  \n",
       "27     64 2 4 5 15 16 18 23 247 469 477 484 485 486 4...  \n",
       "28     26 921 2216 2220 2228 2235 2315 4908 6256 6611...  \n",
       "29                        6 657 2283 6639 8208 8598 8965  \n",
       "...                                                  ...  \n",
       "16950                                   3 441 7697 15355  \n",
       "16951                            4 2550 2551 14267 16585  \n",
       "16952                          4 13393 13410 14922 15633  \n",
       "16953  20 1631 3402 9286 12080 12562 12997 13198 1384...  \n",
       "16954                                            1 13567  \n",
       "16955                                                  0  \n",
       "16956                                            1 10661  \n",
       "16957                                            1 16717  \n",
       "16958                                                  0  \n",
       "16959                    5 13840 14354 16077 16316 16618  \n",
       "16960                                      2 14354 16449  \n",
       "16961  9 14366 14843 15870 15879 15890 15944 16272 16...  \n",
       "16962  10 975 8166 8682 12219 13563 14378 15092 15944...  \n",
       "16963   8 9217 14376 15184 15659 15710 16164 16205 16434  \n",
       "16964                                                  0  \n",
       "16965                                       2 9338 16704  \n",
       "16966                                        2 2528 3835  \n",
       "16967                                      2 15041 16884  \n",
       "16968              6 13378 15390 16105 16428 16441 16625  \n",
       "16969                                       2 8221 12798  \n",
       "16970                                                  0  \n",
       "16971      8 1659 3963 5640 7255 10821 13542 13996 14703  \n",
       "16972                                                  0  \n",
       "16973  12 1631 10468 10587 11949 12665 13198 14527 14...  \n",
       "16974  16 420 6357 6371 9466 12007 12096 12660 13307 ...  \n",
       "16975   8 7991 15184 15944 16272 16304 16451 16619 16722  \n",
       "16976  14 418 10406 10558 11796 14709 15093 15248 152...  \n",
       "16977                                                  0  \n",
       "16978                                                NaN  \n",
       "16979                                                NaN  \n",
       "\n",
       "[16980 rows x 7 columns]"
      ]
     },
     "execution_count": 17,
     "metadata": {},
     "output_type": "execute_result"
    }
   ],
   "source": [
    "DF2=pd.concat([DF,citations2],axis=1)\n",
    "DF2"
   ]
  },
  {
   "cell_type": "code",
   "execution_count": 18,
   "metadata": {},
   "outputs": [
    {
     "data": {
      "text/plain": [
       "str"
      ]
     },
     "execution_count": 18,
     "metadata": {},
     "output_type": "execute_result"
    }
   ],
   "source": [
    "type(DF2['citations'][0])"
   ]
  },
  {
   "cell_type": "code",
   "execution_count": 19,
   "metadata": {
    "collapsed": true
   },
   "outputs": [],
   "source": [
    "N = 10"
   ]
  },
  {
   "cell_type": "code",
   "execution_count": 20,
   "metadata": {},
   "outputs": [
    {
     "data": {
      "text/html": [
       "<div>\n",
       "<style>\n",
       "    .dataframe thead tr:only-child th {\n",
       "        text-align: right;\n",
       "    }\n",
       "\n",
       "    .dataframe thead th {\n",
       "        text-align: left;\n",
       "    }\n",
       "\n",
       "    .dataframe tbody tr th {\n",
       "        vertical-align: top;\n",
       "    }\n",
       "</style>\n",
       "<table border=\"1\" class=\"dataframe\">\n",
       "  <thead>\n",
       "    <tr style=\"text-align: right;\">\n",
       "      <th></th>\n",
       "      <th>doc.id</th>\n",
       "      <th>title</th>\n",
       "      <th>citeulike.id</th>\n",
       "      <th>raw.title</th>\n",
       "      <th>raw.abstract</th>\n",
       "      <th>index</th>\n",
       "      <th>citations</th>\n",
       "    </tr>\n",
       "  </thead>\n",
       "  <tbody>\n",
       "    <tr>\n",
       "      <th>0</th>\n",
       "      <td>1</td>\n",
       "      <td>the metabolic world of escherichia coli is not...</td>\n",
       "      <td>42.0</td>\n",
       "      <td>The metabolic world of Escherichia coli is not...</td>\n",
       "      <td>To elucidate the organizational and evolutiona...</td>\n",
       "      <td>1.0</td>\n",
       "      <td>16 42 43 60 113 116 161 252 1543 1782 1947 414...</td>\n",
       "    </tr>\n",
       "    <tr>\n",
       "      <th>1</th>\n",
       "      <td>2</td>\n",
       "      <td>reverse engineering of biological complexity</td>\n",
       "      <td>43.0</td>\n",
       "      <td>Reverse Engineering of Biological Complexity</td>\n",
       "      <td>Advanced technologies and biology have extreme...</td>\n",
       "      <td>2.0</td>\n",
       "      <td>85 0 4 5 10 11 15 23 27 28 48 52 79 106 368 46...</td>\n",
       "    </tr>\n",
       "    <tr>\n",
       "      <th>2</th>\n",
       "      <td>3</td>\n",
       "      <td>exploring complex networks</td>\n",
       "      <td>44.0</td>\n",
       "      <td>Exploring complex networks</td>\n",
       "      <td>The study of networks pervades all of science,...</td>\n",
       "      <td>3.0</td>\n",
       "      <td>0</td>\n",
       "    </tr>\n",
       "    <tr>\n",
       "      <th>3</th>\n",
       "      <td>4</td>\n",
       "      <td>comparative assessment of largescale data sets...</td>\n",
       "      <td>46.0</td>\n",
       "      <td>Comparative assessment of large-scale data set...</td>\n",
       "      <td>Comprehensive protein protein interaction maps...</td>\n",
       "      <td>4.0</td>\n",
       "      <td>23 2 28 488 918 1200 1351 1861 1937 2289 3079 ...</td>\n",
       "    </tr>\n",
       "    <tr>\n",
       "      <th>4</th>\n",
       "      <td>5</td>\n",
       "      <td>navigation in a small world</td>\n",
       "      <td>47.0</td>\n",
       "      <td>Navigation in a small world</td>\n",
       "      <td>The small-world phenomenon â the principle t...</td>\n",
       "      <td>5.0</td>\n",
       "      <td>37 2 15 22 23 28 254 469 477 481 483 484 485 4...</td>\n",
       "    </tr>\n",
       "  </tbody>\n",
       "</table>\n",
       "</div>"
      ],
      "text/plain": [
       "   doc.id                                              title  citeulike.id  \\\n",
       "0       1  the metabolic world of escherichia coli is not...          42.0   \n",
       "1       2       reverse engineering of biological complexity          43.0   \n",
       "2       3                         exploring complex networks          44.0   \n",
       "3       4  comparative assessment of largescale data sets...          46.0   \n",
       "4       5                        navigation in a small world          47.0   \n",
       "\n",
       "                                           raw.title  \\\n",
       "0  The metabolic world of Escherichia coli is not...   \n",
       "1       Reverse Engineering of Biological Complexity   \n",
       "2                         Exploring complex networks   \n",
       "3  Comparative assessment of large-scale data set...   \n",
       "4                        Navigation in a small world   \n",
       "\n",
       "                                        raw.abstract  index  \\\n",
       "0  To elucidate the organizational and evolutiona...    1.0   \n",
       "1  Advanced technologies and biology have extreme...    2.0   \n",
       "2  The study of networks pervades all of science,...    3.0   \n",
       "3  Comprehensive protein protein interaction maps...    4.0   \n",
       "4  The small-world phenomenon â the principle t...    5.0   \n",
       "\n",
       "                                           citations  \n",
       "0  16 42 43 60 113 116 161 252 1543 1782 1947 414...  \n",
       "1  85 0 4 5 10 11 15 23 27 28 48 52 79 106 368 46...  \n",
       "2                                                  0  \n",
       "3  23 2 28 488 918 1200 1351 1861 1937 2289 3079 ...  \n",
       "4  37 2 15 22 23 28 254 469 477 481 483 484 485 4...  "
      ]
     },
     "execution_count": 20,
     "metadata": {},
     "output_type": "execute_result"
    }
   ],
   "source": [
    "DF2.head()"
   ]
  },
  {
   "cell_type": "code",
   "execution_count": 21,
   "metadata": {},
   "outputs": [
    {
     "data": {
      "text/html": [
       "<div>\n",
       "<style>\n",
       "    .dataframe thead tr:only-child th {\n",
       "        text-align: right;\n",
       "    }\n",
       "\n",
       "    .dataframe thead th {\n",
       "        text-align: left;\n",
       "    }\n",
       "\n",
       "    .dataframe tbody tr th {\n",
       "        vertical-align: top;\n",
       "    }\n",
       "</style>\n",
       "<table border=\"1\" class=\"dataframe\">\n",
       "  <thead>\n",
       "    <tr style=\"text-align: right;\">\n",
       "      <th></th>\n",
       "      <th>doc.id</th>\n",
       "      <th>title</th>\n",
       "      <th>citeulike.id</th>\n",
       "      <th>raw.title</th>\n",
       "      <th>raw.abstract</th>\n",
       "      <th>index</th>\n",
       "      <th>citations</th>\n",
       "    </tr>\n",
       "  </thead>\n",
       "  <tbody>\n",
       "    <tr>\n",
       "      <th>16975</th>\n",
       "      <td>16976</td>\n",
       "      <td>life is physics evolution as a collective phen...</td>\n",
       "      <td>8273254.0</td>\n",
       "      <td>Life is physics: evolution as a collective phe...</td>\n",
       "      <td>Evolution is the fundamental physical process ...</td>\n",
       "      <td>16976.0</td>\n",
       "      <td>8 7991 15184 15944 16272 16304 16451 16619 16722</td>\n",
       "    </tr>\n",
       "    <tr>\n",
       "      <th>16976</th>\n",
       "      <td>16977</td>\n",
       "      <td>limitations of nextgeneration genome sequence ...</td>\n",
       "      <td>8290615.0</td>\n",
       "      <td>Limitations of next-generation genome sequence...</td>\n",
       "      <td>High-throughput sequencing technologies promis...</td>\n",
       "      <td>16977.0</td>\n",
       "      <td>14 418 10406 10558 11796 14709 15093 15248 152...</td>\n",
       "    </tr>\n",
       "    <tr>\n",
       "      <th>16977</th>\n",
       "      <td>16978</td>\n",
       "      <td>accurate inference of transcription factor bin...</td>\n",
       "      <td>8305197.0</td>\n",
       "      <td>Accurate inference of transcription factor bin...</td>\n",
       "      <td>Accurate functional annotation of regulatory e...</td>\n",
       "      <td>16978.0</td>\n",
       "      <td>0</td>\n",
       "    </tr>\n",
       "    <tr>\n",
       "      <th>16978</th>\n",
       "      <td>16979</td>\n",
       "      <td>software that goes with the flow in systems bi...</td>\n",
       "      <td>8331304.0</td>\n",
       "      <td>Software that goes with the flow in systems bi...</td>\n",
       "      <td>ABSTRACT: A recent article in BMC Bioinformati...</td>\n",
       "      <td>NaN</td>\n",
       "      <td>NaN</td>\n",
       "    </tr>\n",
       "    <tr>\n",
       "      <th>16979</th>\n",
       "      <td>16980</td>\n",
       "      <td>a bacterium that can grow by using arsenic ins...</td>\n",
       "      <td>8349297.0</td>\n",
       "      <td>A Bacterium That Can Grow by Using Arsenic Ins...</td>\n",
       "      <td>Life is mostly composed of the elements carbon...</td>\n",
       "      <td>NaN</td>\n",
       "      <td>NaN</td>\n",
       "    </tr>\n",
       "  </tbody>\n",
       "</table>\n",
       "</div>"
      ],
      "text/plain": [
       "       doc.id                                              title  \\\n",
       "16975   16976  life is physics evolution as a collective phen...   \n",
       "16976   16977  limitations of nextgeneration genome sequence ...   \n",
       "16977   16978  accurate inference of transcription factor bin...   \n",
       "16978   16979  software that goes with the flow in systems bi...   \n",
       "16979   16980  a bacterium that can grow by using arsenic ins...   \n",
       "\n",
       "       citeulike.id                                          raw.title  \\\n",
       "16975     8273254.0  Life is physics: evolution as a collective phe...   \n",
       "16976     8290615.0  Limitations of next-generation genome sequence...   \n",
       "16977     8305197.0  Accurate inference of transcription factor bin...   \n",
       "16978     8331304.0  Software that goes with the flow in systems bi...   \n",
       "16979     8349297.0  A Bacterium That Can Grow by Using Arsenic Ins...   \n",
       "\n",
       "                                            raw.abstract    index  \\\n",
       "16975  Evolution is the fundamental physical process ...  16976.0   \n",
       "16976  High-throughput sequencing technologies promis...  16977.0   \n",
       "16977  Accurate functional annotation of regulatory e...  16978.0   \n",
       "16978  ABSTRACT: A recent article in BMC Bioinformati...      NaN   \n",
       "16979  Life is mostly composed of the elements carbon...      NaN   \n",
       "\n",
       "                                               citations  \n",
       "16975   8 7991 15184 15944 16272 16304 16451 16619 16722  \n",
       "16976  14 418 10406 10558 11796 14709 15093 15248 152...  \n",
       "16977                                                  0  \n",
       "16978                                                NaN  \n",
       "16979                                                NaN  "
      ]
     },
     "execution_count": 21,
     "metadata": {},
     "output_type": "execute_result"
    }
   ],
   "source": [
    "DF2.tail()"
   ]
  },
  {
   "cell_type": "code",
   "execution_count": 22,
   "metadata": {
    "collapsed": true
   },
   "outputs": [],
   "source": [
    "DF2.dropna(inplace=True,axis=0)"
   ]
  },
  {
   "cell_type": "code",
   "execution_count": 23,
   "metadata": {
    "collapsed": true
   },
   "outputs": [],
   "source": [
    "DF2['citations']=DF2['citations'].apply(lambda x: x.split(','))"
   ]
  },
  {
   "cell_type": "code",
   "execution_count": 24,
   "metadata": {
    "collapsed": true
   },
   "outputs": [],
   "source": [
    "del DF\n",
    "del citations\n",
    "del citations2"
   ]
  },
  {
   "cell_type": "code",
   "execution_count": 25,
   "metadata": {
    "collapsed": true
   },
   "outputs": [],
   "source": [
    "IdFreq={}"
   ]
  },
  {
   "cell_type": "code",
   "execution_count": 26,
   "metadata": {
    "collapsed": true
   },
   "outputs": [],
   "source": [
    "def docIdFreq (c_list):\n",
    "    for element in c_list:\n",
    "        if element in IdFreq:\n",
    "            IdFreq[element] = IdFreq[element]+1\n",
    "        else:\n",
    "            IdFreq[element] = 1"
   ]
  },
  {
   "cell_type": "code",
   "execution_count": 27,
   "metadata": {
    "collapsed": true
   },
   "outputs": [],
   "source": [
    "DF2['citations'].apply(lambda x: docIdFreq(x));"
   ]
  },
  {
   "cell_type": "code",
   "execution_count": 28,
   "metadata": {
    "collapsed": true
   },
   "outputs": [],
   "source": [
    "most_popular = sorted(IdFreq.items(), key=lambda x:x[1],reverse=True)"
   ]
  },
  {
   "cell_type": "code",
   "execution_count": 29,
   "metadata": {
    "collapsed": true
   },
   "outputs": [],
   "source": [
    "del most_popular[0]"
   ]
  },
  {
   "cell_type": "code",
   "execution_count": 30,
   "metadata": {},
   "outputs": [
    {
     "data": {
      "text/plain": [
       "[('1 2216', 8),\n",
       " ('1 13117', 7),\n",
       " ('1 11229', 5),\n",
       " ('1 965', 4),\n",
       " ('1 3803', 4),\n",
       " ('1 1878', 4),\n",
       " ('1 243', 4),\n",
       " ('1 5943', 4),\n",
       " ('1 8717', 4),\n",
       " ('1 1786', 3)]"
      ]
     },
     "execution_count": 30,
     "metadata": {},
     "output_type": "execute_result"
    }
   ],
   "source": [
    "most_popular[0:N]"
   ]
  },
  {
   "cell_type": "code",
   "execution_count": 31,
   "metadata": {
    "collapsed": true
   },
   "outputs": [],
   "source": [
    "DF2.drop('index',axis=1,inplace=True)"
   ]
  },
  {
   "cell_type": "code",
   "execution_count": 32,
   "metadata": {},
   "outputs": [
    {
     "data": {
      "text/html": [
       "<div>\n",
       "<style>\n",
       "    .dataframe thead tr:only-child th {\n",
       "        text-align: right;\n",
       "    }\n",
       "\n",
       "    .dataframe thead th {\n",
       "        text-align: left;\n",
       "    }\n",
       "\n",
       "    .dataframe tbody tr th {\n",
       "        vertical-align: top;\n",
       "    }\n",
       "</style>\n",
       "<table border=\"1\" class=\"dataframe\">\n",
       "  <thead>\n",
       "    <tr style=\"text-align: right;\">\n",
       "      <th></th>\n",
       "      <th>doc.id</th>\n",
       "      <th>title</th>\n",
       "      <th>citeulike.id</th>\n",
       "      <th>raw.title</th>\n",
       "      <th>raw.abstract</th>\n",
       "      <th>citations</th>\n",
       "    </tr>\n",
       "  </thead>\n",
       "  <tbody>\n",
       "    <tr>\n",
       "      <th>0</th>\n",
       "      <td>1</td>\n",
       "      <td>the metabolic world of escherichia coli is not...</td>\n",
       "      <td>42.0</td>\n",
       "      <td>The metabolic world of Escherichia coli is not...</td>\n",
       "      <td>To elucidate the organizational and evolutiona...</td>\n",
       "      <td>[16 42 43 60 113 116 161 252 1543 1782 1947 41...</td>\n",
       "    </tr>\n",
       "    <tr>\n",
       "      <th>1</th>\n",
       "      <td>2</td>\n",
       "      <td>reverse engineering of biological complexity</td>\n",
       "      <td>43.0</td>\n",
       "      <td>Reverse Engineering of Biological Complexity</td>\n",
       "      <td>Advanced technologies and biology have extreme...</td>\n",
       "      <td>[85 0 4 5 10 11 15 23 27 28 48 52 79 106 368 4...</td>\n",
       "    </tr>\n",
       "    <tr>\n",
       "      <th>2</th>\n",
       "      <td>3</td>\n",
       "      <td>exploring complex networks</td>\n",
       "      <td>44.0</td>\n",
       "      <td>Exploring complex networks</td>\n",
       "      <td>The study of networks pervades all of science,...</td>\n",
       "      <td>[0]</td>\n",
       "    </tr>\n",
       "    <tr>\n",
       "      <th>3</th>\n",
       "      <td>4</td>\n",
       "      <td>comparative assessment of largescale data sets...</td>\n",
       "      <td>46.0</td>\n",
       "      <td>Comparative assessment of large-scale data set...</td>\n",
       "      <td>Comprehensive protein protein interaction maps...</td>\n",
       "      <td>[23 2 28 488 918 1200 1351 1861 1937 2289 3079...</td>\n",
       "    </tr>\n",
       "    <tr>\n",
       "      <th>4</th>\n",
       "      <td>5</td>\n",
       "      <td>navigation in a small world</td>\n",
       "      <td>47.0</td>\n",
       "      <td>Navigation in a small world</td>\n",
       "      <td>The small-world phenomenon â the principle t...</td>\n",
       "      <td>[37 2 15 22 23 28 254 469 477 481 483 484 485 ...</td>\n",
       "    </tr>\n",
       "  </tbody>\n",
       "</table>\n",
       "</div>"
      ],
      "text/plain": [
       "   doc.id                                              title  citeulike.id  \\\n",
       "0       1  the metabolic world of escherichia coli is not...          42.0   \n",
       "1       2       reverse engineering of biological complexity          43.0   \n",
       "2       3                         exploring complex networks          44.0   \n",
       "3       4  comparative assessment of largescale data sets...          46.0   \n",
       "4       5                        navigation in a small world          47.0   \n",
       "\n",
       "                                           raw.title  \\\n",
       "0  The metabolic world of Escherichia coli is not...   \n",
       "1       Reverse Engineering of Biological Complexity   \n",
       "2                         Exploring complex networks   \n",
       "3  Comparative assessment of large-scale data set...   \n",
       "4                        Navigation in a small world   \n",
       "\n",
       "                                        raw.abstract  \\\n",
       "0  To elucidate the organizational and evolutiona...   \n",
       "1  Advanced technologies and biology have extreme...   \n",
       "2  The study of networks pervades all of science,...   \n",
       "3  Comprehensive protein protein interaction maps...   \n",
       "4  The small-world phenomenon â the principle t...   \n",
       "\n",
       "                                           citations  \n",
       "0  [16 42 43 60 113 116 161 252 1543 1782 1947 41...  \n",
       "1  [85 0 4 5 10 11 15 23 27 28 48 52 79 106 368 4...  \n",
       "2                                                [0]  \n",
       "3  [23 2 28 488 918 1200 1351 1861 1937 2289 3079...  \n",
       "4  [37 2 15 22 23 28 254 469 477 481 483 484 485 ...  "
      ]
     },
     "execution_count": 32,
     "metadata": {},
     "output_type": "execute_result"
    }
   ],
   "source": [
    "DF2.head()"
   ]
  },
  {
   "cell_type": "code",
   "execution_count": 33,
   "metadata": {},
   "outputs": [
    {
     "data": {
      "text/plain": [
       "'The metabolic world of Escherichia coli is not small'"
      ]
     },
     "execution_count": 33,
     "metadata": {},
     "output_type": "execute_result"
    }
   ],
   "source": [
    "DF2[DF2['doc.id']==1]['raw.title'].values[0]"
   ]
  },
  {
   "cell_type": "markdown",
   "metadata": {},
   "source": [
    "# Most popular article "
   ]
  },
  {
   "cell_type": "markdown",
   "metadata": {},
   "source": [
    "'The metabolic world of Escherichia coli is not small'"
   ]
  },
  {
   "cell_type": "code",
   "execution_count": 34,
   "metadata": {
    "collapsed": true
   },
   "outputs": [],
   "source": [
    "UR = pd.read_csv(\"citeulike-a/users.dat\",delimiter='\\n',names=['liked_articles'],header=None)"
   ]
  },
  {
   "cell_type": "code",
   "execution_count": 35,
   "metadata": {},
   "outputs": [
    {
     "data": {
      "text/html": [
       "<div>\n",
       "<style>\n",
       "    .dataframe thead tr:only-child th {\n",
       "        text-align: right;\n",
       "    }\n",
       "\n",
       "    .dataframe thead th {\n",
       "        text-align: left;\n",
       "    }\n",
       "\n",
       "    .dataframe tbody tr th {\n",
       "        vertical-align: top;\n",
       "    }\n",
       "</style>\n",
       "<table border=\"1\" class=\"dataframe\">\n",
       "  <thead>\n",
       "    <tr style=\"text-align: right;\">\n",
       "      <th></th>\n",
       "      <th>liked_articles</th>\n",
       "    </tr>\n",
       "  </thead>\n",
       "  <tbody>\n",
       "    <tr>\n",
       "      <th>0</th>\n",
       "      <td>70 495 1631 2317 2526 2846 2931 3171 3297 3332...</td>\n",
       "    </tr>\n",
       "    <tr>\n",
       "      <th>1</th>\n",
       "      <td>38 493 942 1519 1843 1844 1896 2819 3391 5031 ...</td>\n",
       "    </tr>\n",
       "    <tr>\n",
       "      <th>2</th>\n",
       "      <td>20 517 791 800 1329 1767 1984 2126 3009 4458 4...</td>\n",
       "    </tr>\n",
       "    <tr>\n",
       "      <th>3</th>\n",
       "      <td>12 706 709 721 755 756 776 892 895 2588 2991 4...</td>\n",
       "    </tr>\n",
       "    <tr>\n",
       "      <th>4</th>\n",
       "      <td>12 761 2678 4034 4035 5439 5494 5758 7798 9046...</td>\n",
       "    </tr>\n",
       "  </tbody>\n",
       "</table>\n",
       "</div>"
      ],
      "text/plain": [
       "                                      liked_articles\n",
       "0  70 495 1631 2317 2526 2846 2931 3171 3297 3332...\n",
       "1  38 493 942 1519 1843 1844 1896 2819 3391 5031 ...\n",
       "2  20 517 791 800 1329 1767 1984 2126 3009 4458 4...\n",
       "3  12 706 709 721 755 756 776 892 895 2588 2991 4...\n",
       "4  12 761 2678 4034 4035 5439 5494 5758 7798 9046..."
      ]
     },
     "execution_count": 35,
     "metadata": {},
     "output_type": "execute_result"
    }
   ],
   "source": [
    "UR.head()"
   ]
  },
  {
   "cell_type": "code",
   "execution_count": 36,
   "metadata": {
    "collapsed": true
   },
   "outputs": [],
   "source": [
    "UR['liked_articles']=UR['liked_articles'].apply(lambda x: x.split(' '))"
   ]
  },
  {
   "cell_type": "code",
   "execution_count": 37,
   "metadata": {},
   "outputs": [
    {
     "data": {
      "text/html": [
       "<div>\n",
       "<style>\n",
       "    .dataframe thead tr:only-child th {\n",
       "        text-align: right;\n",
       "    }\n",
       "\n",
       "    .dataframe thead th {\n",
       "        text-align: left;\n",
       "    }\n",
       "\n",
       "    .dataframe tbody tr th {\n",
       "        vertical-align: top;\n",
       "    }\n",
       "</style>\n",
       "<table border=\"1\" class=\"dataframe\">\n",
       "  <thead>\n",
       "    <tr style=\"text-align: right;\">\n",
       "      <th></th>\n",
       "      <th>liked_articles</th>\n",
       "    </tr>\n",
       "  </thead>\n",
       "  <tbody>\n",
       "    <tr>\n",
       "      <th>0</th>\n",
       "      <td>[70, 495, 1631, 2317, 2526, 2846, 2931, 3171, ...</td>\n",
       "    </tr>\n",
       "    <tr>\n",
       "      <th>1</th>\n",
       "      <td>[38, 493, 942, 1519, 1843, 1844, 1896, 2819, 3...</td>\n",
       "    </tr>\n",
       "    <tr>\n",
       "      <th>2</th>\n",
       "      <td>[20, 517, 791, 800, 1329, 1767, 1984, 2126, 30...</td>\n",
       "    </tr>\n",
       "    <tr>\n",
       "      <th>3</th>\n",
       "      <td>[12, 706, 709, 721, 755, 756, 776, 892, 895, 2...</td>\n",
       "    </tr>\n",
       "    <tr>\n",
       "      <th>4</th>\n",
       "      <td>[12, 761, 2678, 4034, 4035, 5439, 5494, 5758, ...</td>\n",
       "    </tr>\n",
       "  </tbody>\n",
       "</table>\n",
       "</div>"
      ],
      "text/plain": [
       "                                      liked_articles\n",
       "0  [70, 495, 1631, 2317, 2526, 2846, 2931, 3171, ...\n",
       "1  [38, 493, 942, 1519, 1843, 1844, 1896, 2819, 3...\n",
       "2  [20, 517, 791, 800, 1329, 1767, 1984, 2126, 30...\n",
       "3  [12, 706, 709, 721, 755, 756, 776, 892, 895, 2...\n",
       "4  [12, 761, 2678, 4034, 4035, 5439, 5494, 5758, ..."
      ]
     },
     "execution_count": 37,
     "metadata": {},
     "output_type": "execute_result"
    }
   ],
   "source": [
    "UR.head()"
   ]
  },
  {
   "cell_type": "code",
   "execution_count": 38,
   "metadata": {},
   "outputs": [
    {
     "name": "stdout",
     "output_type": "stream",
     "text": [
      "<class 'pandas.core.frame.DataFrame'>\n",
      "RangeIndex: 5551 entries, 0 to 5550\n",
      "Data columns (total 1 columns):\n",
      "liked_articles    5551 non-null object\n",
      "dtypes: object(1)\n",
      "memory usage: 43.4+ KB\n"
     ]
    }
   ],
   "source": [
    "UR.info()"
   ]
  },
  {
   "cell_type": "code",
   "execution_count": 39,
   "metadata": {},
   "outputs": [
    {
     "name": "stderr",
     "output_type": "stream",
     "text": [
      "/home/marco/anaconda3/envs/pyLove/lib/python3.6/site-packages/ipykernel_launcher.py:5: DeprecationWarning: \n",
      ".ix is deprecated. Please use\n",
      ".loc for label based indexing or\n",
      ".iloc for positional indexing\n",
      "\n",
      "See the documentation here:\n",
      "http://pandas.pydata.org/pandas-docs/stable/indexing.html#ix-indexer-is-deprecated\n",
      "  \"\"\"\n"
     ]
    }
   ],
   "source": [
    "kf = KFold(n_splits=5)\n",
    "recommends = []\n",
    "\n",
    "for train_index, validate_index in kf.split(UR):        \n",
    "    trainDF = pd.DataFrame(UR.ix[train_index])\n",
    "    validateDF = pd.DataFrame(UR.ix[validate_index])\n",
    "    \n",
    "    IdFreq={}\n",
    "    trainDF['liked_articles'].apply(lambda x: docIdFreq(x));\n",
    "    most_popular = sorted(IdFreq.items(), key=lambda x:x[1],reverse=True)\n",
    "    del most_popular[0]\n",
    "    most_popular = most_popular[0:N]\n",
    "    mp_docId = [ element[0] for element in most_popular]\n",
    "    recommends.append(DF2[DF2['doc.id'].isin(mp_docId)]['raw.title'].values)\n",
    "    \n",
    "    \n"
   ]
  },
  {
   "cell_type": "code",
   "execution_count": 40,
   "metadata": {},
   "outputs": [
    {
     "data": {
      "text/plain": [
       "[array(['Organization, development and function of complex brain networks',\n",
       "        'Motifs in brain networks.',\n",
       "        'Diffusion on Complex Networks : A way to probe their large scale topological structures',\n",
       "        'Topological Generalizations of network motifs',\n",
       "        \"Collective dynamics of 'small-world' networks.\",\n",
       "        'Network motifs: simple building blocks of complex networks.',\n",
       "        'Authoritative sources in a hyperlinked environment',\n",
       "        'Finding and evaluating community structure in networks',\n",
       "        'Subgraph centrality in complex networks.',\n",
       "        'Finding structure with randomness: Stochastic algorithms for constructing approximate matrix decompositions'], dtype=object),\n",
       " array(['Organization, development and function of complex brain networks',\n",
       "        'Motifs in brain networks.',\n",
       "        'Diffusion on Complex Networks : A way to probe their large scale topological structures',\n",
       "        'Topological Generalizations of network motifs',\n",
       "        \"Collective dynamics of 'small-world' networks.\",\n",
       "        'Network motifs: simple building blocks of complex networks.',\n",
       "        'Authoritative sources in a hyperlinked environment',\n",
       "        'Finding and evaluating community structure in networks',\n",
       "        'Subgraph centrality in complex networks.',\n",
       "        'Finding structure with randomness: Stochastic algorithms for constructing approximate matrix decompositions'], dtype=object),\n",
       " array(['Organization, development and function of complex brain networks',\n",
       "        'Motifs in brain networks.',\n",
       "        'Diffusion on Complex Networks : A way to probe their large scale topological structures',\n",
       "        'Topological Generalizations of network motifs',\n",
       "        \"Collective dynamics of 'small-world' networks.\",\n",
       "        'Network motifs: simple building blocks of complex networks.',\n",
       "        'Authoritative sources in a hyperlinked environment',\n",
       "        'Finding and evaluating community structure in networks',\n",
       "        'Subgraph centrality in complex networks.',\n",
       "        'Finding structure with randomness: Stochastic algorithms for constructing approximate matrix decompositions'], dtype=object),\n",
       " array(['Early language acquisition: cracking the speech code.',\n",
       "        'Organization, development and function of complex brain networks',\n",
       "        'Motifs in brain networks.',\n",
       "        'Diffusion on Complex Networks : A way to probe their large scale topological structures',\n",
       "        \"Collective dynamics of 'small-world' networks.\",\n",
       "        'Network motifs: simple building blocks of complex networks.',\n",
       "        'Authoritative sources in a hyperlinked environment',\n",
       "        'Finding and evaluating community structure in networks',\n",
       "        'Subgraph centrality in complex networks.',\n",
       "        'Finding structure with randomness: Stochastic algorithms for constructing approximate matrix decompositions'], dtype=object),\n",
       " array(['Organization, development and function of complex brain networks',\n",
       "        'Motifs in brain networks.',\n",
       "        'Diffusion on Complex Networks : A way to probe their large scale topological structures',\n",
       "        'Topological Generalizations of network motifs',\n",
       "        \"Collective dynamics of 'small-world' networks.\",\n",
       "        'Network motifs: simple building blocks of complex networks.',\n",
       "        'Authoritative sources in a hyperlinked environment',\n",
       "        'Finding and evaluating community structure in networks',\n",
       "        'Subgraph centrality in complex networks.',\n",
       "        'Finding structure with randomness: Stochastic algorithms for constructing approximate matrix decompositions'], dtype=object)]"
      ]
     },
     "execution_count": 40,
     "metadata": {},
     "output_type": "execute_result"
    }
   ],
   "source": [
    "recommends"
   ]
  },
  {
   "cell_type": "markdown",
   "metadata": {},
   "source": [
    "# Random"
   ]
  },
  {
   "cell_type": "code",
   "execution_count": 41,
   "metadata": {
    "collapsed": true
   },
   "outputs": [],
   "source": [
    "d_id=np.random.randint(low=0, high=len(DF2)-1,size=N)"
   ]
  },
  {
   "cell_type": "code",
   "execution_count": 42,
   "metadata": {},
   "outputs": [
    {
     "data": {
      "text/plain": [
       "array([ 'A common reference frame for movement plans in the posterior parietal cortex.',\n",
       "       'Linear Algebra and Its Applications',\n",
       "       'Bunch: A Clustering Tool for the Recovery and Maintenance of Software System Structures',\n",
       "       'PARADISE: a framework for evaluating spoken dialogue agents',\n",
       "       'Probabilistic topic models',\n",
       "       'DBD: a transcription factor prediction database.',\n",
       "       '{Q}uality of {S}ervice for {W}orkflows and {W}eb {S}ervice {P}rocesses',\n",
       "       'BioInfer: a corpus for information extraction in the biomedical domain',\n",
       "       'Reconstruction of biochemical networks in microorganisms',\n",
       "       'The challenges of informatics in synthetic biology: from biomolecular networks to artificial organisms'], dtype=object)"
      ]
     },
     "execution_count": 42,
     "metadata": {},
     "output_type": "execute_result"
    }
   ],
   "source": [
    "DF2[DF2['doc.id'].isin(d_id)]['raw.title'].values"
   ]
  },
  {
   "cell_type": "markdown",
   "metadata": {},
   "source": [
    "# Content-Based"
   ]
  },
  {
   "cell_type": "code",
   "execution_count": 43,
   "metadata": {
    "collapsed": true
   },
   "outputs": [],
   "source": [
    "tfidf_vectorizer = TfidfVectorizer(stop_words='english')"
   ]
  },
  {
   "cell_type": "code",
   "execution_count": 44,
   "metadata": {
    "collapsed": true
   },
   "outputs": [],
   "source": [
    "tfidf_matrix = tfidf_vectorizer.fit_transform(DF2['raw.abstract'])\n",
    "nbrs_tfidf        = NearestNeighbors(n_neighbors=N+1,metric='cosine').fit(tfidf_matrix)"
   ]
  },
  {
   "cell_type": "code",
   "execution_count": 45,
   "metadata": {
    "collapsed": true
   },
   "outputs": [],
   "source": [
    "def get_closest_neighbors_tfidf(title):\n",
    "    row                = DF2[DF2['raw.title']==title].index[0]\n",
    "    distances, indices = nbrs_tfidf.kneighbors(tfidf_matrix.getrow(row))\n",
    "    titles_similar      = pd.Series(indices.flatten()).map(DF2.reset_index()['raw.title'])\n",
    "    result             = pd.DataFrame({'distance':distances.flatten(), 'raw.title':titles_similar})\n",
    "    return result"
   ]
  },
  {
   "cell_type": "code",
   "execution_count": 46,
   "metadata": {},
   "outputs": [
    {
     "data": {
      "text/plain": [
       "array([ 'Emergence of simple-cell receptive field properties by learning a sparse code for natural images',\n",
       "       'Relations between the statistics of natural images and the response properties of cortical cells',\n",
       "       'Sparse coding with an overcomplete basis set: A strategy employed by V',\n",
       "       'Sparse coding and decorrelation in primary visual cortex during natural vision',\n",
       "       'Natural image statistics and efficient coding',\n",
       "       \"The `Independent Components' of Natural Scenes are Edge Filters\",\n",
       "       'Cortical Sensitivity to Visual Features in Natural Scenes',\n",
       "       'Statistical learning of new visual feature combinations by infants.',\n",
       "       'Sparse Coding of Sensory Inputs',\n",
       "       'Adaptive filtering enhances information transmission in visual cortex.'], dtype=object)"
      ]
     },
     "execution_count": 46,
     "metadata": {},
     "output_type": "execute_result"
    }
   ],
   "source": [
    "get_closest_neighbors_tfidf('What is the goal of sensory coding')['raw.title'].values[1:N+1]"
   ]
  },
  {
   "cell_type": "markdown",
   "metadata": {},
   "source": [
    "# Collaborative FiItering"
   ]
  },
  {
   "cell_type": "code",
   "execution_count": 47,
   "metadata": {
    "collapsed": true
   },
   "outputs": [],
   "source": [
    "docId = DF2['doc.id']"
   ]
  },
  {
   "cell_type": "code",
   "execution_count": 48,
   "metadata": {},
   "outputs": [
    {
     "data": {
      "text/plain": [
       "16978"
      ]
     },
     "execution_count": 48,
     "metadata": {},
     "output_type": "execute_result"
    }
   ],
   "source": [
    "docId[len(docId)-1]"
   ]
  },
  {
   "cell_type": "code",
   "execution_count": 49,
   "metadata": {
    "collapsed": true
   },
   "outputs": [],
   "source": [
    "del CountVectorizer\n",
    "del Counter\n",
    "del IdFreq\n",
    "del LogisticRegression\n",
    "del TfidfVectorizer\n",
    "del tfidf_matrix\n",
    "del nbrs_tfidf\n",
    "del tfidf_vectorizer"
   ]
  },
  {
   "cell_type": "code",
   "execution_count": 50,
   "metadata": {
    "collapsed": true
   },
   "outputs": [],
   "source": [
    "DF2.drop(['citeulike.id','title','citations'],axis=1,inplace=True)"
   ]
  },
  {
   "cell_type": "code",
   "execution_count": 51,
   "metadata": {
    "collapsed": true
   },
   "outputs": [],
   "source": [
    "M = np.zeros(shape=(len(UR),len(docId)))\n",
    "\n",
    "for i, row in UR.iterrows():\n",
    "    for j in range(len(row['liked_articles'])-1):\n",
    "        M[i,int(row['liked_articles'][j])-1]=1"
   ]
  },
  {
   "cell_type": "code",
   "execution_count": 52,
   "metadata": {},
   "outputs": [
    {
     "ename": "NameError",
     "evalue": "name 'BARRIER' is not defined",
     "output_type": "error",
     "traceback": [
      "\u001b[0;31m---------------------------------------------------------------------------\u001b[0m",
      "\u001b[0;31mNameError\u001b[0m                                 Traceback (most recent call last)",
      "\u001b[0;32m<ipython-input-52-f292b08ecd8d>\u001b[0m in \u001b[0;36m<module>\u001b[0;34m()\u001b[0m\n\u001b[0;32m----> 1\u001b[0;31m \u001b[0mBARRIER\u001b[0m\u001b[0;34m(\u001b[0m\u001b[0;34m)\u001b[0m\u001b[0;34m;\u001b[0m\u001b[0;34m\u001b[0m\u001b[0m\n\u001b[0m",
      "\u001b[0;31mNameError\u001b[0m: name 'BARRIER' is not defined"
     ]
    }
   ],
   "source": [
    "BARRIER();"
   ]
  },
  {
   "cell_type": "code",
   "execution_count": null,
   "metadata": {
    "collapsed": true
   },
   "outputs": [],
   "source": [
    "#del UR\n",
    "del docId"
   ]
  },
  {
   "cell_type": "code",
   "execution_count": null,
   "metadata": {
    "collapsed": true
   },
   "outputs": [],
   "source": [
    "user_ratings_mean = np.sum(M, axis = 1)"
   ]
  },
  {
   "cell_type": "code",
   "execution_count": null,
   "metadata": {
    "collapsed": true
   },
   "outputs": [],
   "source": [
    "from scipy.sparse.linalg import svds\n",
    "\n",
    "U, sigma, Vt = svds(M, k = 800)"
   ]
  },
  {
   "cell_type": "code",
   "execution_count": null,
   "metadata": {
    "collapsed": true
   },
   "outputs": [],
   "source": [
    "sigma = np.diag(sigma)"
   ]
  },
  {
   "cell_type": "code",
   "execution_count": null,
   "metadata": {},
   "outputs": [],
   "source": [
    "print(U.shape,Vt.shape)"
   ]
  },
  {
   "cell_type": "code",
   "execution_count": null,
   "metadata": {
    "collapsed": true
   },
   "outputs": [],
   "source": [
    "all_user_predicted_ratings = (np.dot(np.dot(U, sigma), Vt))# + \n",
    "                              #user_ratings_mean.reshape(-1, 1))/user_ratings_mean.reshape(-1, 1)"
   ]
  },
  {
   "cell_type": "code",
   "execution_count": null,
   "metadata": {
    "collapsed": true
   },
   "outputs": [],
   "source": [
    "preds_df = pd.DataFrame(all_user_predicted_ratings)"
   ]
  },
  {
   "cell_type": "markdown",
   "metadata": {},
   "source": [
    "# nDCG"
   ]
  },
  {
   "cell_type": "code",
   "execution_count": null,
   "metadata": {
    "collapsed": true
   },
   "outputs": [],
   "source": []
  },
  {
   "cell_type": "markdown",
   "metadata": {},
   "source": [
    "## Recommending for user #:"
   ]
  },
  {
   "cell_type": "code",
   "execution_count": null,
   "metadata": {
    "collapsed": true
   },
   "outputs": [],
   "source": [
    "user_row_number=599"
   ]
  },
  {
   "cell_type": "code",
   "execution_count": null,
   "metadata": {
    "collapsed": true
   },
   "outputs": [],
   "source": [
    "sorted_user_predictions = preds_df.iloc[user_row_number].sort_values(ascending=False)"
   ]
  },
  {
   "cell_type": "code",
   "execution_count": null,
   "metadata": {},
   "outputs": [],
   "source": [
    "preds_df.head()"
   ]
  },
  {
   "cell_type": "code",
   "execution_count": null,
   "metadata": {
    "collapsed": true
   },
   "outputs": [],
   "source": [
    "recommendations = (DF2[~DF2['doc.id'].isin(UR.iloc[user_row_number].values[0])].\n",
    "merge(pd.DataFrame(sorted_user_predictions).reset_index(), how = 'left',\n",
    "               left_on = 'doc.id',\n",
    "               right_on = 'index'))"
   ]
  },
  {
   "cell_type": "code",
   "execution_count": null,
   "metadata": {
    "collapsed": true
   },
   "outputs": [],
   "source": [
    "recommendations.rename(columns = {user_row_number: 'Predictions'},inplace=True)"
   ]
  },
  {
   "cell_type": "code",
   "execution_count": null,
   "metadata": {
    "collapsed": true
   },
   "outputs": [],
   "source": [
    "recommendations.drop('index',axis=1,inplace=True)"
   ]
  },
  {
   "cell_type": "code",
   "execution_count": null,
   "metadata": {
    "collapsed": true
   },
   "outputs": [],
   "source": [
    "recommendations.sort_values('Predictions', ascending = False,inplace=True)"
   ]
  },
  {
   "cell_type": "code",
   "execution_count": null,
   "metadata": {},
   "outputs": [],
   "source": [
    "BARRIER();"
   ]
  },
  {
   "cell_type": "code",
   "execution_count": null,
   "metadata": {},
   "outputs": [],
   "source": [
    "# k = 200\n",
    "recommendations.head(N)"
   ]
  },
  {
   "cell_type": "code",
   "execution_count": null,
   "metadata": {
    "collapsed": true
   },
   "outputs": [],
   "source": [
    "C=recommendations['doc.id'].head(10).tolist()"
   ]
  },
  {
   "cell_type": "code",
   "execution_count": null,
   "metadata": {
    "collapsed": true
   },
   "outputs": [],
   "source": [
    "A=UR['liked_articles'].iloc[user_row_number]"
   ]
  },
  {
   "cell_type": "code",
   "execution_count": null,
   "metadata": {},
   "outputs": [],
   "source": [
    "sorted(C)"
   ]
  },
  {
   "cell_type": "code",
   "execution_count": null,
   "metadata": {},
   "outputs": [],
   "source": [
    "DF2[~DF2['doc.id'].isin(UR.iloc[user_row_number].values[0])].index"
   ]
  },
  {
   "cell_type": "code",
   "execution_count": null,
   "metadata": {
    "collapsed": true
   },
   "outputs": [],
   "source": [
    "A = list(map(int, A))"
   ]
  },
  {
   "cell_type": "code",
   "execution_count": null,
   "metadata": {},
   "outputs": [],
   "source": [
    "sorted(A)"
   ]
  },
  {
   "cell_type": "code",
   "execution_count": null,
   "metadata": {},
   "outputs": [],
   "source": [
    "set(C) & set(DF2[~DF2['doc.id'].isin(UR.iloc[user_row_number].values[0])].index)"
   ]
  },
  {
   "cell_type": "code",
   "execution_count": null,
   "metadata": {},
   "outputs": [],
   "source": [
    "# k = 500\n",
    "recommendations.head(N)"
   ]
  },
  {
   "cell_type": "code",
   "execution_count": null,
   "metadata": {
    "collapsed": true
   },
   "outputs": [],
   "source": [
    "# k = 85\n",
    "recommendations.head(N)"
   ]
  },
  {
   "cell_type": "code",
   "execution_count": null,
   "metadata": {
    "collapsed": true
   },
   "outputs": [],
   "source": [
    "# k = 85\n",
    "recommendations.head(N)"
   ]
  },
  {
   "cell_type": "code",
   "execution_count": null,
   "metadata": {
    "collapsed": true
   },
   "outputs": [],
   "source": [
    "# k = 85\n",
    "recommendations.head(N)"
   ]
  },
  {
   "cell_type": "code",
   "execution_count": null,
   "metadata": {
    "collapsed": true
   },
   "outputs": [],
   "source": [
    "# k = 80\n",
    "recommendations.head(N)"
   ]
  },
  {
   "cell_type": "code",
   "execution_count": null,
   "metadata": {
    "collapsed": true
   },
   "outputs": [],
   "source": [
    "# k = 75\n",
    "recommendations.head(N)"
   ]
  },
  {
   "cell_type": "code",
   "execution_count": null,
   "metadata": {
    "collapsed": true
   },
   "outputs": [],
   "source": [
    "# k=50\n",
    "recommendations.head(N)"
   ]
  },
  {
   "cell_type": "code",
   "execution_count": null,
   "metadata": {
    "collapsed": true
   },
   "outputs": [],
   "source": [
    "# k=100\n",
    "recommendations.head(N)"
   ]
  },
  {
   "cell_type": "code",
   "execution_count": null,
   "metadata": {
    "collapsed": true
   },
   "outputs": [],
   "source": [
    "# k=400\n",
    "recommendations.head(N)"
   ]
  },
  {
   "cell_type": "code",
   "execution_count": null,
   "metadata": {
    "collapsed": true
   },
   "outputs": [],
   "source": [
    "# k=300\n",
    "recommendations.head(N)"
   ]
  },
  {
   "cell_type": "code",
   "execution_count": null,
   "metadata": {
    "collapsed": true
   },
   "outputs": [],
   "source": [
    "# k=200\n",
    "recommendations.head(N)"
   ]
  },
  {
   "cell_type": "code",
   "execution_count": null,
   "metadata": {
    "collapsed": true
   },
   "outputs": [],
   "source": [
    "recommendations.head(N)"
   ]
  },
  {
   "cell_type": "code",
   "execution_count": null,
   "metadata": {
    "collapsed": true
   },
   "outputs": [],
   "source": [
    "recommendations.head(N)"
   ]
  },
  {
   "cell_type": "code",
   "execution_count": null,
   "metadata": {
    "collapsed": true
   },
   "outputs": [],
   "source": [
    "recommendations.head(N)\n",
    "\n",
    "docId = DF2['doc.id']\n",
    "\n",
    "docId[len(docId)-1]\n",
    "\n",
    "del CountVectorizer\n",
    "del Counter\n",
    "del IdFreq\n",
    "del LogisticRegression\n",
    "del TfidfVectorizer\n",
    "del tfidf_matrix\n",
    "del nbrs_tfidf\n",
    "del tfidf_vectorizer\n",
    "\n",
    "DF2.drop(['citeulike.id','title','citations'],axis=1,inplace=True)\n",
    "\n",
    "M = np.zeros(shape=(len(UR),len(docId)))\n",
    "\n",
    "for i, row in UR.iterrows():\n",
    "    for j in range(len(row['liked_articles'])-1):\n",
    "        M[i,int(row['liked_articles'][j])]=1\n",
    "\n",
    "BARRIER();\n",
    "\n",
    "#del UR\n",
    "del docId\n",
    "\n",
    "user_ratings_mean = np.sum(M, axis = 1)\n",
    "\n",
    "from scipy.sparse.linalg import svds\n",
    "\n",
    "U, sigma, Vt = svds(M, k = 500)\n",
    "\n",
    "sigma = np.diag(sigma)\n",
    "\n",
    "print(U.shape,Vt.shape)\n",
    "\n",
    "all_user_predicted_ratings = (np.dot(np.dot(U, sigma), Vt))# + \n",
    "                              #user_ratings_mean.reshape(-1, 1))/user_ratings_mean.reshape(-1, 1)\n",
    "\n",
    "preds_df = pd.DataFrame(all_user_predicted_ratings)\n",
    "\n",
    "## Recommending for user #:\n",
    "\n",
    "user_row_number=598\n",
    "\n",
    "sorted_user_predictions = preds_df.iloc[user_row_number].sort_values(ascending=False)\n",
    "\n",
    "preds_df.head()"
   ]
  }
 ],
 "metadata": {
  "kernelspec": {
   "display_name": "Python 3",
   "language": "python",
   "name": "python3"
  },
  "language_info": {
   "codemirror_mode": {
    "name": "ipython",
    "version": 3
   },
   "file_extension": ".py",
   "mimetype": "text/x-python",
   "name": "python",
   "nbconvert_exporter": "python",
   "pygments_lexer": "ipython3",
   "version": "3.6.2"
  }
 },
 "nbformat": 4,
 "nbformat_minor": 2
}
