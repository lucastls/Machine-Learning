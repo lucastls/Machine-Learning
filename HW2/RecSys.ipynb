{
 "cells": [
  {
   "cell_type": "code",
   "execution_count": 1,
   "metadata": {},
   "outputs": [],
   "source": [
    "import pandas as pd\n",
    "import numpy as np\n",
    "import sklearn\n",
    "from sklearn.feature_extraction.text import CountVectorizer,TfidfVectorizer\n",
    "from collections import Counter\n",
    "import matplotlib.pyplot as plt\n",
    "%matplotlib inline\n",
    "from sklearn import metrics\n",
    "\n",
    "from operator import itemgetter\n",
    "\n",
    "from sklearn.metrics.pairwise import cosine_similarity\n",
    "\n",
    "from sklearn.neighbors import NearestNeighbors\n",
    "\n",
    "from sklearn.linear_model import LogisticRegression"
   ]
  },
  {
   "cell_type": "code",
   "execution_count": 2,
   "metadata": {},
   "outputs": [],
   "source": [
    "DF = pd.read_csv(\"citeulike-a/raw-data.csv\",encoding='ISO-8859-1')#'ISO-8859-1')"
   ]
  },
  {
   "cell_type": "code",
   "execution_count": 116,
   "metadata": {},
   "outputs": [
    {
     "ename": "NameError",
     "evalue": "name 'DF' is not defined",
     "output_type": "error",
     "traceback": [
      "\u001b[0;31m---------------------------------------------------------------------------\u001b[0m",
      "\u001b[0;31mNameError\u001b[0m                                 Traceback (most recent call last)",
      "\u001b[0;32m<ipython-input-116-c52c052374b0>\u001b[0m in \u001b[0;36m<module>\u001b[0;34m()\u001b[0m\n\u001b[0;32m----> 1\u001b[0;31m \u001b[0mlen\u001b[0m\u001b[0;34m(\u001b[0m\u001b[0mDF\u001b[0m\u001b[0;34m)\u001b[0m\u001b[0;34m\u001b[0m\u001b[0m\n\u001b[0m",
      "\u001b[0;31mNameError\u001b[0m: name 'DF' is not defined"
     ]
    }
   ],
   "source": [
    "DF.head()"
   ]
  },
  {
   "cell_type": "code",
   "execution_count": 4,
   "metadata": {},
   "outputs": [
    {
     "data": {
      "text/html": [
       "<div>\n",
       "<style>\n",
       "    .dataframe thead tr:only-child th {\n",
       "        text-align: right;\n",
       "    }\n",
       "\n",
       "    .dataframe thead th {\n",
       "        text-align: left;\n",
       "    }\n",
       "\n",
       "    .dataframe tbody tr th {\n",
       "        vertical-align: top;\n",
       "    }\n",
       "</style>\n",
       "<table border=\"1\" class=\"dataframe\">\n",
       "  <thead>\n",
       "    <tr style=\"text-align: right;\">\n",
       "      <th></th>\n",
       "      <th>doc.id</th>\n",
       "      <th>title</th>\n",
       "      <th>citeulike.id</th>\n",
       "      <th>raw.title</th>\n",
       "      <th>raw.abstract</th>\n",
       "    </tr>\n",
       "  </thead>\n",
       "  <tbody>\n",
       "    <tr>\n",
       "      <th>16975</th>\n",
       "      <td>16976</td>\n",
       "      <td>life is physics evolution as a collective phen...</td>\n",
       "      <td>8273254.0</td>\n",
       "      <td>Life is physics: evolution as a collective phe...</td>\n",
       "      <td>Evolution is the fundamental physical process ...</td>\n",
       "    </tr>\n",
       "    <tr>\n",
       "      <th>16976</th>\n",
       "      <td>16977</td>\n",
       "      <td>limitations of nextgeneration genome sequence ...</td>\n",
       "      <td>8290615.0</td>\n",
       "      <td>Limitations of next-generation genome sequence...</td>\n",
       "      <td>High-throughput sequencing technologies promis...</td>\n",
       "    </tr>\n",
       "    <tr>\n",
       "      <th>16977</th>\n",
       "      <td>16978</td>\n",
       "      <td>accurate inference of transcription factor bin...</td>\n",
       "      <td>8305197.0</td>\n",
       "      <td>Accurate inference of transcription factor bin...</td>\n",
       "      <td>Accurate functional annotation of regulatory e...</td>\n",
       "    </tr>\n",
       "    <tr>\n",
       "      <th>16978</th>\n",
       "      <td>16979</td>\n",
       "      <td>software that goes with the flow in systems bi...</td>\n",
       "      <td>8331304.0</td>\n",
       "      <td>Software that goes with the flow in systems bi...</td>\n",
       "      <td>ABSTRACT: A recent article in BMC Bioinformati...</td>\n",
       "    </tr>\n",
       "    <tr>\n",
       "      <th>16979</th>\n",
       "      <td>16980</td>\n",
       "      <td>a bacterium that can grow by using arsenic ins...</td>\n",
       "      <td>8349297.0</td>\n",
       "      <td>A Bacterium That Can Grow by Using Arsenic Ins...</td>\n",
       "      <td>Life is mostly composed of the elements carbon...</td>\n",
       "    </tr>\n",
       "  </tbody>\n",
       "</table>\n",
       "</div>"
      ],
      "text/plain": [
       "       doc.id                                              title  \\\n",
       "16975   16976  life is physics evolution as a collective phen...   \n",
       "16976   16977  limitations of nextgeneration genome sequence ...   \n",
       "16977   16978  accurate inference of transcription factor bin...   \n",
       "16978   16979  software that goes with the flow in systems bi...   \n",
       "16979   16980  a bacterium that can grow by using arsenic ins...   \n",
       "\n",
       "       citeulike.id                                          raw.title  \\\n",
       "16975     8273254.0  Life is physics: evolution as a collective phe...   \n",
       "16976     8290615.0  Limitations of next-generation genome sequence...   \n",
       "16977     8305197.0  Accurate inference of transcription factor bin...   \n",
       "16978     8331304.0  Software that goes with the flow in systems bi...   \n",
       "16979     8349297.0  A Bacterium That Can Grow by Using Arsenic Ins...   \n",
       "\n",
       "                                            raw.abstract  \n",
       "16975  Evolution is the fundamental physical process ...  \n",
       "16976  High-throughput sequencing technologies promis...  \n",
       "16977  Accurate functional annotation of regulatory e...  \n",
       "16978  ABSTRACT: A recent article in BMC Bioinformati...  \n",
       "16979  Life is mostly composed of the elements carbon...  "
      ]
     },
     "execution_count": 4,
     "metadata": {},
     "output_type": "execute_result"
    }
   ],
   "source": [
    "DF.tail()"
   ]
  },
  {
   "cell_type": "code",
   "execution_count": 5,
   "metadata": {},
   "outputs": [
    {
     "name": "stdout",
     "output_type": "stream",
     "text": [
      "<class 'pandas.core.frame.DataFrame'>\n",
      "RangeIndex: 16980 entries, 0 to 16979\n",
      "Data columns (total 5 columns):\n",
      "doc.id          16980 non-null int64\n",
      "title           16980 non-null object\n",
      "citeulike.id    16980 non-null float64\n",
      "raw.title       16980 non-null object\n",
      "raw.abstract    16980 non-null object\n",
      "dtypes: float64(1), int64(1), object(3)\n",
      "memory usage: 663.4+ KB\n"
     ]
    }
   ],
   "source": [
    "DF.info()"
   ]
  },
  {
   "cell_type": "code",
   "execution_count": 6,
   "metadata": {},
   "outputs": [],
   "source": [
    "citations = pd.read_csv(\"citeulike-a/citations.dat\",delimiter='\\n')"
   ]
  },
  {
   "cell_type": "code",
   "execution_count": 7,
   "metadata": {},
   "outputs": [
    {
     "name": "stdout",
     "output_type": "stream",
     "text": [
      "<class 'pandas.core.frame.DataFrame'>\n",
      "RangeIndex: 16981 entries, 0 to 16980\n",
      "Data columns (total 1 columns):\n",
      "citations    16981 non-null object\n",
      "dtypes: object(1)\n",
      "memory usage: 132.7+ KB\n"
     ]
    }
   ],
   "source": [
    "citations.info()"
   ]
  },
  {
   "cell_type": "code",
   "execution_count": 8,
   "metadata": {},
   "outputs": [
    {
     "data": {
      "text/html": [
       "<div>\n",
       "<style>\n",
       "    .dataframe thead tr:only-child th {\n",
       "        text-align: right;\n",
       "    }\n",
       "\n",
       "    .dataframe thead th {\n",
       "        text-align: left;\n",
       "    }\n",
       "\n",
       "    .dataframe tbody tr th {\n",
       "        vertical-align: top;\n",
       "    }\n",
       "</style>\n",
       "<table border=\"1\" class=\"dataframe\">\n",
       "  <thead>\n",
       "    <tr style=\"text-align: right;\">\n",
       "      <th></th>\n",
       "      <th>citations</th>\n",
       "    </tr>\n",
       "  </thead>\n",
       "  <tbody>\n",
       "    <tr>\n",
       "      <th>16976</th>\n",
       "      <td>16,420,6357,6371,9466,12007,12096,12660,13307,...</td>\n",
       "    </tr>\n",
       "    <tr>\n",
       "      <th>16977</th>\n",
       "      <td>8,7991,15184,15944,16272,16304,16451,16619,16722</td>\n",
       "    </tr>\n",
       "    <tr>\n",
       "      <th>16978</th>\n",
       "      <td>14,418,10406,10558,11796,14709,15093,15248,152...</td>\n",
       "    </tr>\n",
       "    <tr>\n",
       "      <th>16979</th>\n",
       "      <td>0</td>\n",
       "    </tr>\n",
       "    <tr>\n",
       "      <th>16980</th>\n",
       "      <td>0</td>\n",
       "    </tr>\n",
       "  </tbody>\n",
       "</table>\n",
       "</div>"
      ],
      "text/plain": [
       "                                               citations\n",
       "16976  16,420,6357,6371,9466,12007,12096,12660,13307,...\n",
       "16977   8,7991,15184,15944,16272,16304,16451,16619,16722\n",
       "16978  14,418,10406,10558,11796,14709,15093,15248,152...\n",
       "16979                                                  0\n",
       "16980                                                  0"
      ]
     },
     "execution_count": 8,
     "metadata": {},
     "output_type": "execute_result"
    }
   ],
   "source": [
    "citations.tail()"
   ]
  },
  {
   "cell_type": "code",
   "execution_count": 9,
   "metadata": {},
   "outputs": [],
   "source": [
    "citations2=citations[1:len(citations)-1].copy()"
   ]
  },
  {
   "cell_type": "code",
   "execution_count": 10,
   "metadata": {},
   "outputs": [],
   "source": [
    "#citations2.index.rename('doc.id',inplace=True)"
   ]
  },
  {
   "cell_type": "code",
   "execution_count": 11,
   "metadata": {},
   "outputs": [],
   "source": [
    "citations2.reset_index(inplace=True)"
   ]
  },
  {
   "cell_type": "code",
   "execution_count": 12,
   "metadata": {},
   "outputs": [
    {
     "data": {
      "text/html": [
       "<div>\n",
       "<style>\n",
       "    .dataframe thead tr:only-child th {\n",
       "        text-align: right;\n",
       "    }\n",
       "\n",
       "    .dataframe thead th {\n",
       "        text-align: left;\n",
       "    }\n",
       "\n",
       "    .dataframe tbody tr th {\n",
       "        vertical-align: top;\n",
       "    }\n",
       "</style>\n",
       "<table border=\"1\" class=\"dataframe\">\n",
       "  <thead>\n",
       "    <tr style=\"text-align: right;\">\n",
       "      <th></th>\n",
       "      <th>index</th>\n",
       "      <th>citations</th>\n",
       "    </tr>\n",
       "  </thead>\n",
       "  <tbody>\n",
       "    <tr>\n",
       "      <th>16974</th>\n",
       "      <td>16975</td>\n",
       "      <td>12,1631,10468,10587,11949,12665,13198,14527,14...</td>\n",
       "    </tr>\n",
       "    <tr>\n",
       "      <th>16975</th>\n",
       "      <td>16976</td>\n",
       "      <td>16,420,6357,6371,9466,12007,12096,12660,13307,...</td>\n",
       "    </tr>\n",
       "    <tr>\n",
       "      <th>16976</th>\n",
       "      <td>16977</td>\n",
       "      <td>8,7991,15184,15944,16272,16304,16451,16619,16722</td>\n",
       "    </tr>\n",
       "    <tr>\n",
       "      <th>16977</th>\n",
       "      <td>16978</td>\n",
       "      <td>14,418,10406,10558,11796,14709,15093,15248,152...</td>\n",
       "    </tr>\n",
       "    <tr>\n",
       "      <th>16978</th>\n",
       "      <td>16979</td>\n",
       "      <td>0</td>\n",
       "    </tr>\n",
       "  </tbody>\n",
       "</table>\n",
       "</div>"
      ],
      "text/plain": [
       "       index                                          citations\n",
       "16974  16975  12,1631,10468,10587,11949,12665,13198,14527,14...\n",
       "16975  16976  16,420,6357,6371,9466,12007,12096,12660,13307,...\n",
       "16976  16977   8,7991,15184,15944,16272,16304,16451,16619,16722\n",
       "16977  16978  14,418,10406,10558,11796,14709,15093,15248,152...\n",
       "16978  16979                                                  0"
      ]
     },
     "execution_count": 12,
     "metadata": {},
     "output_type": "execute_result"
    }
   ],
   "source": [
    "citations2.tail()"
   ]
  },
  {
   "cell_type": "code",
   "execution_count": 13,
   "metadata": {},
   "outputs": [],
   "source": [
    "DF2=pd.concat([DF,citations2],axis=1)"
   ]
  },
  {
   "cell_type": "code",
   "execution_count": 14,
   "metadata": {},
   "outputs": [
    {
     "data": {
      "text/plain": [
       "str"
      ]
     },
     "execution_count": 14,
     "metadata": {},
     "output_type": "execute_result"
    }
   ],
   "source": [
    "type(DF2['citations'][0])"
   ]
  },
  {
   "cell_type": "code",
   "execution_count": 15,
   "metadata": {},
   "outputs": [],
   "source": [
    "N = 10"
   ]
  },
  {
   "cell_type": "code",
   "execution_count": 16,
   "metadata": {},
   "outputs": [
    {
     "data": {
      "text/html": [
       "<div>\n",
       "<style>\n",
       "    .dataframe thead tr:only-child th {\n",
       "        text-align: right;\n",
       "    }\n",
       "\n",
       "    .dataframe thead th {\n",
       "        text-align: left;\n",
       "    }\n",
       "\n",
       "    .dataframe tbody tr th {\n",
       "        vertical-align: top;\n",
       "    }\n",
       "</style>\n",
       "<table border=\"1\" class=\"dataframe\">\n",
       "  <thead>\n",
       "    <tr style=\"text-align: right;\">\n",
       "      <th></th>\n",
       "      <th>doc.id</th>\n",
       "      <th>title</th>\n",
       "      <th>citeulike.id</th>\n",
       "      <th>raw.title</th>\n",
       "      <th>raw.abstract</th>\n",
       "      <th>index</th>\n",
       "      <th>citations</th>\n",
       "    </tr>\n",
       "  </thead>\n",
       "  <tbody>\n",
       "    <tr>\n",
       "      <th>0</th>\n",
       "      <td>1</td>\n",
       "      <td>the metabolic world of escherichia coli is not...</td>\n",
       "      <td>42.0</td>\n",
       "      <td>The metabolic world of Escherichia coli is not...</td>\n",
       "      <td>To elucidate the organizational and evolutiona...</td>\n",
       "      <td>1.0</td>\n",
       "      <td>3,2,485,3284</td>\n",
       "    </tr>\n",
       "    <tr>\n",
       "      <th>1</th>\n",
       "      <td>2</td>\n",
       "      <td>reverse engineering of biological complexity</td>\n",
       "      <td>43.0</td>\n",
       "      <td>Reverse Engineering of Biological Complexity</td>\n",
       "      <td>Advanced technologies and biology have extreme...</td>\n",
       "      <td>2.0</td>\n",
       "      <td>16,42,43,60,113,116,161,252,1543,1782,1947,414...</td>\n",
       "    </tr>\n",
       "    <tr>\n",
       "      <th>2</th>\n",
       "      <td>3</td>\n",
       "      <td>exploring complex networks</td>\n",
       "      <td>44.0</td>\n",
       "      <td>Exploring complex networks</td>\n",
       "      <td>The study of networks pervades all of science,...</td>\n",
       "      <td>3.0</td>\n",
       "      <td>85,0,4,5,10,11,15,23,27,28,48,52,79,106,368,46...</td>\n",
       "    </tr>\n",
       "    <tr>\n",
       "      <th>3</th>\n",
       "      <td>4</td>\n",
       "      <td>comparative assessment of largescale data sets...</td>\n",
       "      <td>46.0</td>\n",
       "      <td>Comparative assessment of large-scale data set...</td>\n",
       "      <td>Comprehensive protein protein interaction maps...</td>\n",
       "      <td>4.0</td>\n",
       "      <td>0</td>\n",
       "    </tr>\n",
       "    <tr>\n",
       "      <th>4</th>\n",
       "      <td>5</td>\n",
       "      <td>navigation in a small world</td>\n",
       "      <td>47.0</td>\n",
       "      <td>Navigation in a small world</td>\n",
       "      <td>The small-world phenomenon â the principle t...</td>\n",
       "      <td>5.0</td>\n",
       "      <td>23,2,28,488,918,1200,1351,1861,1937,2289,3079,...</td>\n",
       "    </tr>\n",
       "  </tbody>\n",
       "</table>\n",
       "</div>"
      ],
      "text/plain": [
       "   doc.id                                              title  citeulike.id  \\\n",
       "0       1  the metabolic world of escherichia coli is not...          42.0   \n",
       "1       2       reverse engineering of biological complexity          43.0   \n",
       "2       3                         exploring complex networks          44.0   \n",
       "3       4  comparative assessment of largescale data sets...          46.0   \n",
       "4       5                        navigation in a small world          47.0   \n",
       "\n",
       "                                           raw.title  \\\n",
       "0  The metabolic world of Escherichia coli is not...   \n",
       "1       Reverse Engineering of Biological Complexity   \n",
       "2                         Exploring complex networks   \n",
       "3  Comparative assessment of large-scale data set...   \n",
       "4                        Navigation in a small world   \n",
       "\n",
       "                                        raw.abstract  index  \\\n",
       "0  To elucidate the organizational and evolutiona...    1.0   \n",
       "1  Advanced technologies and biology have extreme...    2.0   \n",
       "2  The study of networks pervades all of science,...    3.0   \n",
       "3  Comprehensive protein protein interaction maps...    4.0   \n",
       "4  The small-world phenomenon â the principle t...    5.0   \n",
       "\n",
       "                                           citations  \n",
       "0                                       3,2,485,3284  \n",
       "1  16,42,43,60,113,116,161,252,1543,1782,1947,414...  \n",
       "2  85,0,4,5,10,11,15,23,27,28,48,52,79,106,368,46...  \n",
       "3                                                  0  \n",
       "4  23,2,28,488,918,1200,1351,1861,1937,2289,3079,...  "
      ]
     },
     "execution_count": 16,
     "metadata": {},
     "output_type": "execute_result"
    }
   ],
   "source": [
    "DF2.head()"
   ]
  },
  {
   "cell_type": "code",
   "execution_count": 99,
   "metadata": {},
   "outputs": [
    {
     "data": {
      "text/html": [
       "<div>\n",
       "<style>\n",
       "    .dataframe thead tr:only-child th {\n",
       "        text-align: right;\n",
       "    }\n",
       "\n",
       "    .dataframe thead th {\n",
       "        text-align: left;\n",
       "    }\n",
       "\n",
       "    .dataframe tbody tr th {\n",
       "        vertical-align: top;\n",
       "    }\n",
       "</style>\n",
       "<table border=\"1\" class=\"dataframe\">\n",
       "  <thead>\n",
       "    <tr style=\"text-align: right;\">\n",
       "      <th></th>\n",
       "      <th>doc.id</th>\n",
       "      <th>raw.title</th>\n",
       "      <th>raw.abstract</th>\n",
       "    </tr>\n",
       "  </thead>\n",
       "  <tbody>\n",
       "    <tr>\n",
       "      <th>16974</th>\n",
       "      <td>16975</td>\n",
       "      <td>Analysing biological pathways in genome-wide a...</td>\n",
       "      <td>Genome-wide association (GWA) studies have ty...</td>\n",
       "    </tr>\n",
       "    <tr>\n",
       "      <th>16975</th>\n",
       "      <td>16976</td>\n",
       "      <td>Life is physics: evolution as a collective phe...</td>\n",
       "      <td>Evolution is the fundamental physical process ...</td>\n",
       "    </tr>\n",
       "    <tr>\n",
       "      <th>16976</th>\n",
       "      <td>16977</td>\n",
       "      <td>Limitations of next-generation genome sequence...</td>\n",
       "      <td>High-throughput sequencing technologies promis...</td>\n",
       "    </tr>\n",
       "    <tr>\n",
       "      <th>16977</th>\n",
       "      <td>16978</td>\n",
       "      <td>Accurate inference of transcription factor bin...</td>\n",
       "      <td>Accurate functional annotation of regulatory e...</td>\n",
       "    </tr>\n",
       "    <tr>\n",
       "      <th>16978</th>\n",
       "      <td>16979</td>\n",
       "      <td>Software that goes with the flow in systems bi...</td>\n",
       "      <td>ABSTRACT: A recent article in BMC Bioinformati...</td>\n",
       "    </tr>\n",
       "  </tbody>\n",
       "</table>\n",
       "</div>"
      ],
      "text/plain": [
       "       doc.id                                          raw.title  \\\n",
       "16974   16975  Analysing biological pathways in genome-wide a...   \n",
       "16975   16976  Life is physics: evolution as a collective phe...   \n",
       "16976   16977  Limitations of next-generation genome sequence...   \n",
       "16977   16978  Accurate inference of transcription factor bin...   \n",
       "16978   16979  Software that goes with the flow in systems bi...   \n",
       "\n",
       "                                            raw.abstract  \n",
       "16974   Genome-wide association (GWA) studies have ty...  \n",
       "16975  Evolution is the fundamental physical process ...  \n",
       "16976  High-throughput sequencing technologies promis...  \n",
       "16977  Accurate functional annotation of regulatory e...  \n",
       "16978  ABSTRACT: A recent article in BMC Bioinformati...  "
      ]
     },
     "execution_count": 99,
     "metadata": {},
     "output_type": "execute_result"
    }
   ],
   "source": [
    "DF2.tail()"
   ]
  },
  {
   "cell_type": "code",
   "execution_count": 17,
   "metadata": {},
   "outputs": [],
   "source": [
    "DF2.dropna(inplace=True,axis=0)"
   ]
  },
  {
   "cell_type": "code",
   "execution_count": 18,
   "metadata": {},
   "outputs": [],
   "source": [
    "DF2['citations']=DF2['citations'].apply(lambda x: x.split(','))"
   ]
  },
  {
   "cell_type": "code",
   "execution_count": 19,
   "metadata": {},
   "outputs": [],
   "source": [
    "del DF\n",
    "del citations\n",
    "del citations2"
   ]
  },
  {
   "cell_type": "code",
   "execution_count": 20,
   "metadata": {},
   "outputs": [],
   "source": [
    "IdFreq={}"
   ]
  },
  {
   "cell_type": "code",
   "execution_count": 21,
   "metadata": {},
   "outputs": [],
   "source": [
    "def docIdFreq (c_list):\n",
    "    for element in c_list:\n",
    "        if element in IdFreq:\n",
    "            IdFreq[element] = IdFreq[element]+1\n",
    "        else:\n",
    "            IdFreq[element] = 1"
   ]
  },
  {
   "cell_type": "code",
   "execution_count": 22,
   "metadata": {},
   "outputs": [],
   "source": [
    "DF2['citations'].apply(lambda x: docIdFreq(x));"
   ]
  },
  {
   "cell_type": "code",
   "execution_count": 23,
   "metadata": {},
   "outputs": [],
   "source": [
    "most_popular = sorted(IdFreq.items(), key=lambda x:x[1],reverse=True)"
   ]
  },
  {
   "cell_type": "code",
   "execution_count": 24,
   "metadata": {},
   "outputs": [],
   "source": [
    "del most_popular[0]"
   ]
  },
  {
   "cell_type": "code",
   "execution_count": 25,
   "metadata": {},
   "outputs": [
    {
     "data": {
      "text/plain": [
       "[('1', 1732),\n",
       " ('2', 1585),\n",
       " ('3', 1238),\n",
       " ('4', 1076),\n",
       " ('5', 937),\n",
       " ('6', 747),\n",
       " ('7', 618),\n",
       " ('8', 521),\n",
       " ('9', 493),\n",
       " ('10', 402)]"
      ]
     },
     "execution_count": 25,
     "metadata": {},
     "output_type": "execute_result"
    }
   ],
   "source": [
    "most_popular[0:N]"
   ]
  },
  {
   "cell_type": "code",
   "execution_count": 26,
   "metadata": {},
   "outputs": [],
   "source": [
    "DF2.drop('index',axis=1,inplace=True)"
   ]
  },
  {
   "cell_type": "code",
   "execution_count": 27,
   "metadata": {},
   "outputs": [
    {
     "data": {
      "text/html": [
       "<div>\n",
       "<style>\n",
       "    .dataframe thead tr:only-child th {\n",
       "        text-align: right;\n",
       "    }\n",
       "\n",
       "    .dataframe thead th {\n",
       "        text-align: left;\n",
       "    }\n",
       "\n",
       "    .dataframe tbody tr th {\n",
       "        vertical-align: top;\n",
       "    }\n",
       "</style>\n",
       "<table border=\"1\" class=\"dataframe\">\n",
       "  <thead>\n",
       "    <tr style=\"text-align: right;\">\n",
       "      <th></th>\n",
       "      <th>doc.id</th>\n",
       "      <th>title</th>\n",
       "      <th>citeulike.id</th>\n",
       "      <th>raw.title</th>\n",
       "      <th>raw.abstract</th>\n",
       "      <th>citations</th>\n",
       "    </tr>\n",
       "  </thead>\n",
       "  <tbody>\n",
       "    <tr>\n",
       "      <th>0</th>\n",
       "      <td>1</td>\n",
       "      <td>the metabolic world of escherichia coli is not...</td>\n",
       "      <td>42.0</td>\n",
       "      <td>The metabolic world of Escherichia coli is not...</td>\n",
       "      <td>To elucidate the organizational and evolutiona...</td>\n",
       "      <td>[3, 2, 485, 3284]</td>\n",
       "    </tr>\n",
       "    <tr>\n",
       "      <th>1</th>\n",
       "      <td>2</td>\n",
       "      <td>reverse engineering of biological complexity</td>\n",
       "      <td>43.0</td>\n",
       "      <td>Reverse Engineering of Biological Complexity</td>\n",
       "      <td>Advanced technologies and biology have extreme...</td>\n",
       "      <td>[16, 42, 43, 60, 113, 116, 161, 252, 1543, 178...</td>\n",
       "    </tr>\n",
       "    <tr>\n",
       "      <th>2</th>\n",
       "      <td>3</td>\n",
       "      <td>exploring complex networks</td>\n",
       "      <td>44.0</td>\n",
       "      <td>Exploring complex networks</td>\n",
       "      <td>The study of networks pervades all of science,...</td>\n",
       "      <td>[85, 0, 4, 5, 10, 11, 15, 23, 27, 28, 48, 52, ...</td>\n",
       "    </tr>\n",
       "    <tr>\n",
       "      <th>3</th>\n",
       "      <td>4</td>\n",
       "      <td>comparative assessment of largescale data sets...</td>\n",
       "      <td>46.0</td>\n",
       "      <td>Comparative assessment of large-scale data set...</td>\n",
       "      <td>Comprehensive protein protein interaction maps...</td>\n",
       "      <td>[0]</td>\n",
       "    </tr>\n",
       "    <tr>\n",
       "      <th>4</th>\n",
       "      <td>5</td>\n",
       "      <td>navigation in a small world</td>\n",
       "      <td>47.0</td>\n",
       "      <td>Navigation in a small world</td>\n",
       "      <td>The small-world phenomenon â the principle t...</td>\n",
       "      <td>[23, 2, 28, 488, 918, 1200, 1351, 1861, 1937, ...</td>\n",
       "    </tr>\n",
       "  </tbody>\n",
       "</table>\n",
       "</div>"
      ],
      "text/plain": [
       "   doc.id                                              title  citeulike.id  \\\n",
       "0       1  the metabolic world of escherichia coli is not...          42.0   \n",
       "1       2       reverse engineering of biological complexity          43.0   \n",
       "2       3                         exploring complex networks          44.0   \n",
       "3       4  comparative assessment of largescale data sets...          46.0   \n",
       "4       5                        navigation in a small world          47.0   \n",
       "\n",
       "                                           raw.title  \\\n",
       "0  The metabolic world of Escherichia coli is not...   \n",
       "1       Reverse Engineering of Biological Complexity   \n",
       "2                         Exploring complex networks   \n",
       "3  Comparative assessment of large-scale data set...   \n",
       "4                        Navigation in a small world   \n",
       "\n",
       "                                        raw.abstract  \\\n",
       "0  To elucidate the organizational and evolutiona...   \n",
       "1  Advanced technologies and biology have extreme...   \n",
       "2  The study of networks pervades all of science,...   \n",
       "3  Comprehensive protein protein interaction maps...   \n",
       "4  The small-world phenomenon â the principle t...   \n",
       "\n",
       "                                           citations  \n",
       "0                                  [3, 2, 485, 3284]  \n",
       "1  [16, 42, 43, 60, 113, 116, 161, 252, 1543, 178...  \n",
       "2  [85, 0, 4, 5, 10, 11, 15, 23, 27, 28, 48, 52, ...  \n",
       "3                                                [0]  \n",
       "4  [23, 2, 28, 488, 918, 1200, 1351, 1861, 1937, ...  "
      ]
     },
     "execution_count": 27,
     "metadata": {},
     "output_type": "execute_result"
    }
   ],
   "source": [
    "DF2.head()"
   ]
  },
  {
   "cell_type": "code",
   "execution_count": 28,
   "metadata": {},
   "outputs": [
    {
     "data": {
      "text/plain": [
       "'The metabolic world of Escherichia coli is not small'"
      ]
     },
     "execution_count": 28,
     "metadata": {},
     "output_type": "execute_result"
    }
   ],
   "source": [
    "DF2[DF2['doc.id']==1]['raw.title'].values[0]"
   ]
  },
  {
   "cell_type": "markdown",
   "metadata": {},
   "source": [
    "# Most popular article "
   ]
  },
  {
   "cell_type": "markdown",
   "metadata": {},
   "source": [
    "'The metabolic world of Escherichia coli is not small'"
   ]
  },
  {
   "cell_type": "code",
   "execution_count": 29,
   "metadata": {},
   "outputs": [],
   "source": [
    "UR = pd.read_csv(\"citeulike-a/users.dat\",delimiter='\\n',names=['liked_articles'],header=None)"
   ]
  },
  {
   "cell_type": "code",
   "execution_count": 30,
   "metadata": {},
   "outputs": [
    {
     "data": {
      "text/html": [
       "<div>\n",
       "<style>\n",
       "    .dataframe thead tr:only-child th {\n",
       "        text-align: right;\n",
       "    }\n",
       "\n",
       "    .dataframe thead th {\n",
       "        text-align: left;\n",
       "    }\n",
       "\n",
       "    .dataframe tbody tr th {\n",
       "        vertical-align: top;\n",
       "    }\n",
       "</style>\n",
       "<table border=\"1\" class=\"dataframe\">\n",
       "  <thead>\n",
       "    <tr style=\"text-align: right;\">\n",
       "      <th></th>\n",
       "      <th>liked_articles</th>\n",
       "    </tr>\n",
       "  </thead>\n",
       "  <tbody>\n",
       "    <tr>\n",
       "      <th>0</th>\n",
       "      <td>70 495 1631 2317 2526 2846 2931 3171 3297 3332...</td>\n",
       "    </tr>\n",
       "    <tr>\n",
       "      <th>1</th>\n",
       "      <td>38 493 942 1519 1843 1844 1896 2819 3391 5031 ...</td>\n",
       "    </tr>\n",
       "    <tr>\n",
       "      <th>2</th>\n",
       "      <td>20 517 791 800 1329 1767 1984 2126 3009 4458 4...</td>\n",
       "    </tr>\n",
       "    <tr>\n",
       "      <th>3</th>\n",
       "      <td>12 706 709 721 755 756 776 892 895 2588 2991 4...</td>\n",
       "    </tr>\n",
       "    <tr>\n",
       "      <th>4</th>\n",
       "      <td>12 761 2678 4034 4035 5439 5494 5758 7798 9046...</td>\n",
       "    </tr>\n",
       "  </tbody>\n",
       "</table>\n",
       "</div>"
      ],
      "text/plain": [
       "                                      liked_articles\n",
       "0  70 495 1631 2317 2526 2846 2931 3171 3297 3332...\n",
       "1  38 493 942 1519 1843 1844 1896 2819 3391 5031 ...\n",
       "2  20 517 791 800 1329 1767 1984 2126 3009 4458 4...\n",
       "3  12 706 709 721 755 756 776 892 895 2588 2991 4...\n",
       "4  12 761 2678 4034 4035 5439 5494 5758 7798 9046..."
      ]
     },
     "execution_count": 30,
     "metadata": {},
     "output_type": "execute_result"
    }
   ],
   "source": [
    "UR.head()"
   ]
  },
  {
   "cell_type": "code",
   "execution_count": 31,
   "metadata": {},
   "outputs": [],
   "source": [
    "UR['liked_articles']=UR['liked_articles'].apply(lambda x: x.split(' '))"
   ]
  },
  {
   "cell_type": "code",
   "execution_count": 32,
   "metadata": {},
   "outputs": [
    {
     "data": {
      "text/html": [
       "<div>\n",
       "<style>\n",
       "    .dataframe thead tr:only-child th {\n",
       "        text-align: right;\n",
       "    }\n",
       "\n",
       "    .dataframe thead th {\n",
       "        text-align: left;\n",
       "    }\n",
       "\n",
       "    .dataframe tbody tr th {\n",
       "        vertical-align: top;\n",
       "    }\n",
       "</style>\n",
       "<table border=\"1\" class=\"dataframe\">\n",
       "  <thead>\n",
       "    <tr style=\"text-align: right;\">\n",
       "      <th></th>\n",
       "      <th>liked_articles</th>\n",
       "    </tr>\n",
       "  </thead>\n",
       "  <tbody>\n",
       "    <tr>\n",
       "      <th>0</th>\n",
       "      <td>[70, 495, 1631, 2317, 2526, 2846, 2931, 3171, ...</td>\n",
       "    </tr>\n",
       "    <tr>\n",
       "      <th>1</th>\n",
       "      <td>[38, 493, 942, 1519, 1843, 1844, 1896, 2819, 3...</td>\n",
       "    </tr>\n",
       "    <tr>\n",
       "      <th>2</th>\n",
       "      <td>[20, 517, 791, 800, 1329, 1767, 1984, 2126, 30...</td>\n",
       "    </tr>\n",
       "    <tr>\n",
       "      <th>3</th>\n",
       "      <td>[12, 706, 709, 721, 755, 756, 776, 892, 895, 2...</td>\n",
       "    </tr>\n",
       "    <tr>\n",
       "      <th>4</th>\n",
       "      <td>[12, 761, 2678, 4034, 4035, 5439, 5494, 5758, ...</td>\n",
       "    </tr>\n",
       "  </tbody>\n",
       "</table>\n",
       "</div>"
      ],
      "text/plain": [
       "                                      liked_articles\n",
       "0  [70, 495, 1631, 2317, 2526, 2846, 2931, 3171, ...\n",
       "1  [38, 493, 942, 1519, 1843, 1844, 1896, 2819, 3...\n",
       "2  [20, 517, 791, 800, 1329, 1767, 1984, 2126, 30...\n",
       "3  [12, 706, 709, 721, 755, 756, 776, 892, 895, 2...\n",
       "4  [12, 761, 2678, 4034, 4035, 5439, 5494, 5758, ..."
      ]
     },
     "execution_count": 32,
     "metadata": {},
     "output_type": "execute_result"
    }
   ],
   "source": [
    "UR.head()"
   ]
  },
  {
   "cell_type": "code",
   "execution_count": 33,
   "metadata": {},
   "outputs": [],
   "source": [
    "IdFreq={}"
   ]
  },
  {
   "cell_type": "code",
   "execution_count": 34,
   "metadata": {},
   "outputs": [],
   "source": [
    "UR['liked_articles'].apply(lambda x: docIdFreq(x));"
   ]
  },
  {
   "cell_type": "code",
   "execution_count": 35,
   "metadata": {},
   "outputs": [],
   "source": [
    "most_popular = sorted(IdFreq.items(), key=lambda x:x[1],reverse=True)"
   ]
  },
  {
   "cell_type": "code",
   "execution_count": 36,
   "metadata": {},
   "outputs": [],
   "source": [
    "del most_popular[0]"
   ]
  },
  {
   "cell_type": "code",
   "execution_count": 37,
   "metadata": {},
   "outputs": [],
   "source": [
    "most_popular = most_popular[0:N]"
   ]
  },
  {
   "cell_type": "code",
   "execution_count": 38,
   "metadata": {},
   "outputs": [],
   "source": [
    "mp_docId = [ element[0] for element in most_popular]"
   ]
  },
  {
   "cell_type": "code",
   "execution_count": 39,
   "metadata": {},
   "outputs": [
    {
     "data": {
      "text/plain": [
       "array(['Organization, development and function of complex brain networks',\n",
       "       'Motifs in brain networks.',\n",
       "       'Diffusion on Complex Networks : A way to probe their large scale topological structures',\n",
       "       'Topological Generalizations of network motifs',\n",
       "       \"Collective dynamics of 'small-world' networks.\",\n",
       "       'Network motifs: simple building blocks of complex networks.',\n",
       "       'Authoritative sources in a hyperlinked environment',\n",
       "       'Finding and evaluating community structure in networks',\n",
       "       'Subgraph centrality in complex networks.',\n",
       "       'Finding structure with randomness: Stochastic algorithms for constructing approximate matrix decompositions'], dtype=object)"
      ]
     },
     "execution_count": 39,
     "metadata": {},
     "output_type": "execute_result"
    }
   ],
   "source": [
    "DF2[DF2['doc.id'].isin(mp_docId)]['raw.title'].values"
   ]
  },
  {
   "cell_type": "markdown",
   "metadata": {},
   "source": [
    "# Random"
   ]
  },
  {
   "cell_type": "code",
   "execution_count": 40,
   "metadata": {},
   "outputs": [],
   "source": [
    "d_id=np.random.randint(low=0, high=len(DF2)-1,size=N)"
   ]
  },
  {
   "cell_type": "code",
   "execution_count": 41,
   "metadata": {},
   "outputs": [
    {
     "data": {
      "text/plain": [
       "array(['Automatic Meaning Discovery Using Google',\n",
       "       'A genomic regulatory network for development.',\n",
       "       'The Presentation of Self in Everyday Life',\n",
       "       'Greedy Function Approximation: A gradient boosting machine',\n",
       "       'Vehicles, Experiments in Synthetic Psychology',\n",
       "       'Coevolution of genomic intron number and splice sites',\n",
       "       'Human Genome Ultraconserved Elements Are Ultraselected',\n",
       "       'Population genomics of domestic and wild yeasts',\n",
       "       'reCAPTCHA: Human-Based Character Recognition via Web Security Measures',\n",
       "       'phyloXML: XML for evolutionary biology and comparative genomics'], dtype=object)"
      ]
     },
     "execution_count": 41,
     "metadata": {},
     "output_type": "execute_result"
    }
   ],
   "source": [
    "DF2[DF2['doc.id'].isin(d_id)]['raw.title'].values"
   ]
  },
  {
   "cell_type": "markdown",
   "metadata": {},
   "source": [
    "# Content-Based"
   ]
  },
  {
   "cell_type": "code",
   "execution_count": 42,
   "metadata": {},
   "outputs": [],
   "source": [
    "tfidf_vectorizer = TfidfVectorizer(stop_words='english')"
   ]
  },
  {
   "cell_type": "code",
   "execution_count": 43,
   "metadata": {},
   "outputs": [],
   "source": [
    "tfidf_matrix = tfidf_vectorizer.fit_transform(DF2['raw.abstract'])\n",
    "nbrs_tfidf        = NearestNeighbors(n_neighbors=N+1,metric='cosine').fit(tfidf_matrix)"
   ]
  },
  {
   "cell_type": "code",
   "execution_count": 44,
   "metadata": {},
   "outputs": [],
   "source": [
    "def get_closest_neighbors_tfidf(title):\n",
    "    row                = DF2[DF2['raw.title']==title].index[0]\n",
    "    distances, indices = nbrs_tfidf.kneighbors(tfidf_matrix.getrow(row))\n",
    "    titles_similar      = pd.Series(indices.flatten()).map(DF2.reset_index()['raw.title'])\n",
    "    result             = pd.DataFrame({'distance':distances.flatten(), 'raw.title':titles_similar})\n",
    "    return result"
   ]
  },
  {
   "cell_type": "code",
   "execution_count": 45,
   "metadata": {},
   "outputs": [
    {
     "data": {
      "text/plain": [
       "array([ 'Emergence of simple-cell receptive field properties by learning a sparse code for natural images',\n",
       "       'Relations between the statistics of natural images and the response properties of cortical cells',\n",
       "       'Sparse coding with an overcomplete basis set: A strategy employed by V',\n",
       "       'Sparse coding and decorrelation in primary visual cortex during natural vision',\n",
       "       'Natural image statistics and efficient coding',\n",
       "       \"The `Independent Components' of Natural Scenes are Edge Filters\",\n",
       "       'Cortical Sensitivity to Visual Features in Natural Scenes',\n",
       "       'Statistical learning of new visual feature combinations by infants.',\n",
       "       'Sparse Coding of Sensory Inputs',\n",
       "       'Adaptive filtering enhances information transmission in visual cortex.'], dtype=object)"
      ]
     },
     "execution_count": 45,
     "metadata": {},
     "output_type": "execute_result"
    }
   ],
   "source": [
    "get_closest_neighbors_tfidf('What is the goal of sensory coding')['raw.title'].values[1:N+1]"
   ]
  },
  {
   "cell_type": "markdown",
   "metadata": {},
   "source": [
    "# Collaborative FiItering"
   ]
  },
  {
   "cell_type": "code",
   "execution_count": 98,
   "metadata": {},
   "outputs": [],
   "source": [
    "docId = DF2['doc.id']"
   ]
  },
  {
   "cell_type": "code",
   "execution_count": 97,
   "metadata": {},
   "outputs": [
    {
     "data": {
      "text/plain": [
       "16979"
      ]
     },
     "execution_count": 97,
     "metadata": {},
     "output_type": "execute_result"
    }
   ],
   "source": [
    "docId[len(docId)-1]"
   ]
  },
  {
   "cell_type": "code",
   "execution_count": 48,
   "metadata": {},
   "outputs": [],
   "source": [
    "del CountVectorizer\n",
    "del Counter\n",
    "del IdFreq\n",
    "del LogisticRegression\n",
    "del TfidfVectorizer\n",
    "del tfidf_matrix\n",
    "del nbrs_tfidf\n",
    "del tfidf_vectorizer"
   ]
  },
  {
   "cell_type": "code",
   "execution_count": null,
   "metadata": {},
   "outputs": [],
   "source": [
    "DF2.drop(['citeulike.id','title','citations'],axis=1,inplace=True)"
   ]
  },
  {
   "cell_type": "code",
   "execution_count": 100,
   "metadata": {},
   "outputs": [],
   "source": [
    "M = np.zeros(shape=(len(UR),len(docId)))\n",
    "\n",
    "for i, row in UR.iterrows():\n",
    "    for j in range(len(row['liked_articles'])-1):\n",
    "        M[i,int(row['liked_articles'][j])]=1"
   ]
  },
  {
   "cell_type": "code",
   "execution_count": null,
   "metadata": {},
   "outputs": [],
   "source": [
    "BARRIER();"
   ]
  },
  {
   "cell_type": "code",
   "execution_count": 101,
   "metadata": {},
   "outputs": [],
   "source": [
    "#del UR\n",
    "del docId"
   ]
  },
  {
   "cell_type": "code",
   "execution_count": 102,
   "metadata": {},
   "outputs": [],
   "source": [
    "user_ratings_mean = np.sum(M, axis = 1)"
   ]
  },
  {
   "cell_type": "code",
   "execution_count": 103,
   "metadata": {},
   "outputs": [],
   "source": [
    "from scipy.sparse.linalg import svds\n",
    "\n",
    "U, sigma, Vt = svds(M, k = 500)"
   ]
  },
  {
   "cell_type": "code",
   "execution_count": 104,
   "metadata": {},
   "outputs": [],
   "source": [
    "sigma = np.diag(sigma)"
   ]
  },
  {
   "cell_type": "code",
   "execution_count": 105,
   "metadata": {},
   "outputs": [
    {
     "name": "stdout",
     "output_type": "stream",
     "text": [
      "(5551, 500) (500, 16979)\n"
     ]
    }
   ],
   "source": [
    "print(U.shape,Vt.shape)"
   ]
  },
  {
   "cell_type": "code",
   "execution_count": 106,
   "metadata": {},
   "outputs": [],
   "source": [
    "all_user_predicted_ratings = (np.dot(np.dot(U, sigma), Vt))# + \n",
    "                              #user_ratings_mean.reshape(-1, 1))/user_ratings_mean.reshape(-1, 1)"
   ]
  },
  {
   "cell_type": "code",
   "execution_count": 107,
   "metadata": {},
   "outputs": [],
   "source": [
    "preds_df = pd.DataFrame(all_user_predicted_ratings)"
   ]
  },
  {
   "cell_type": "markdown",
   "metadata": {},
   "source": [
    "## Recommending for user #:"
   ]
  },
  {
   "cell_type": "code",
   "execution_count": 108,
   "metadata": {},
   "outputs": [],
   "source": [
    "user_row_number=598"
   ]
  },
  {
   "cell_type": "code",
   "execution_count": 109,
   "metadata": {},
   "outputs": [],
   "source": [
    "sorted_user_predictions = preds_df.iloc[user_row_number].sort_values(ascending=False)"
   ]
  },
  {
   "cell_type": "code",
   "execution_count": 110,
   "metadata": {},
   "outputs": [
    {
     "data": {
      "text/html": [
       "<div>\n",
       "<style>\n",
       "    .dataframe thead tr:only-child th {\n",
       "        text-align: right;\n",
       "    }\n",
       "\n",
       "    .dataframe thead th {\n",
       "        text-align: left;\n",
       "    }\n",
       "\n",
       "    .dataframe tbody tr th {\n",
       "        vertical-align: top;\n",
       "    }\n",
       "</style>\n",
       "<table border=\"1\" class=\"dataframe\">\n",
       "  <thead>\n",
       "    <tr style=\"text-align: right;\">\n",
       "      <th></th>\n",
       "      <th>0</th>\n",
       "      <th>1</th>\n",
       "      <th>2</th>\n",
       "      <th>3</th>\n",
       "      <th>4</th>\n",
       "      <th>5</th>\n",
       "      <th>6</th>\n",
       "      <th>7</th>\n",
       "      <th>8</th>\n",
       "      <th>9</th>\n",
       "      <th>...</th>\n",
       "      <th>16969</th>\n",
       "      <th>16970</th>\n",
       "      <th>16971</th>\n",
       "      <th>16972</th>\n",
       "      <th>16973</th>\n",
       "      <th>16974</th>\n",
       "      <th>16975</th>\n",
       "      <th>16976</th>\n",
       "      <th>16977</th>\n",
       "      <th>16978</th>\n",
       "    </tr>\n",
       "  </thead>\n",
       "  <tbody>\n",
       "    <tr>\n",
       "      <th>0</th>\n",
       "      <td>-0.108217</td>\n",
       "      <td>-0.012148</td>\n",
       "      <td>0.207660</td>\n",
       "      <td>0.116254</td>\n",
       "      <td>-0.018404</td>\n",
       "      <td>-0.008025</td>\n",
       "      <td>0.025870</td>\n",
       "      <td>-0.003720</td>\n",
       "      <td>0.013988</td>\n",
       "      <td>0.008246</td>\n",
       "      <td>...</td>\n",
       "      <td>-0.007290</td>\n",
       "      <td>0.002763</td>\n",
       "      <td>-0.004214</td>\n",
       "      <td>0.006010</td>\n",
       "      <td>-0.002886</td>\n",
       "      <td>0.012461</td>\n",
       "      <td>-0.007043</td>\n",
       "      <td>0.0</td>\n",
       "      <td>0.0</td>\n",
       "      <td>-0.004424</td>\n",
       "    </tr>\n",
       "    <tr>\n",
       "      <th>1</th>\n",
       "      <td>0.006121</td>\n",
       "      <td>-0.004489</td>\n",
       "      <td>-0.022790</td>\n",
       "      <td>0.110287</td>\n",
       "      <td>-0.032111</td>\n",
       "      <td>0.000457</td>\n",
       "      <td>0.008041</td>\n",
       "      <td>0.015893</td>\n",
       "      <td>0.014139</td>\n",
       "      <td>0.003591</td>\n",
       "      <td>...</td>\n",
       "      <td>-0.005871</td>\n",
       "      <td>-0.006162</td>\n",
       "      <td>0.001106</td>\n",
       "      <td>-0.000193</td>\n",
       "      <td>-0.006080</td>\n",
       "      <td>-0.011805</td>\n",
       "      <td>0.001606</td>\n",
       "      <td>0.0</td>\n",
       "      <td>0.0</td>\n",
       "      <td>-0.001275</td>\n",
       "    </tr>\n",
       "    <tr>\n",
       "      <th>2</th>\n",
       "      <td>0.005672</td>\n",
       "      <td>-0.011155</td>\n",
       "      <td>-0.003710</td>\n",
       "      <td>0.007297</td>\n",
       "      <td>0.036504</td>\n",
       "      <td>-0.006043</td>\n",
       "      <td>0.002950</td>\n",
       "      <td>-0.006832</td>\n",
       "      <td>0.003880</td>\n",
       "      <td>0.000958</td>\n",
       "      <td>...</td>\n",
       "      <td>0.000882</td>\n",
       "      <td>-0.000410</td>\n",
       "      <td>-0.005494</td>\n",
       "      <td>0.001048</td>\n",
       "      <td>-0.001947</td>\n",
       "      <td>-0.000304</td>\n",
       "      <td>0.002074</td>\n",
       "      <td>0.0</td>\n",
       "      <td>0.0</td>\n",
       "      <td>-0.000467</td>\n",
       "    </tr>\n",
       "    <tr>\n",
       "      <th>3</th>\n",
       "      <td>-0.000598</td>\n",
       "      <td>0.007160</td>\n",
       "      <td>-0.018280</td>\n",
       "      <td>0.011815</td>\n",
       "      <td>0.000643</td>\n",
       "      <td>0.007045</td>\n",
       "      <td>-0.000263</td>\n",
       "      <td>0.007097</td>\n",
       "      <td>0.000032</td>\n",
       "      <td>0.004871</td>\n",
       "      <td>...</td>\n",
       "      <td>-0.001925</td>\n",
       "      <td>-0.000018</td>\n",
       "      <td>-0.000692</td>\n",
       "      <td>-0.000693</td>\n",
       "      <td>-0.001710</td>\n",
       "      <td>-0.000841</td>\n",
       "      <td>0.002519</td>\n",
       "      <td>0.0</td>\n",
       "      <td>0.0</td>\n",
       "      <td>-0.000182</td>\n",
       "    </tr>\n",
       "    <tr>\n",
       "      <th>4</th>\n",
       "      <td>0.003032</td>\n",
       "      <td>0.018895</td>\n",
       "      <td>0.009498</td>\n",
       "      <td>0.009376</td>\n",
       "      <td>-0.005467</td>\n",
       "      <td>0.002482</td>\n",
       "      <td>0.006292</td>\n",
       "      <td>0.003004</td>\n",
       "      <td>0.010248</td>\n",
       "      <td>0.001656</td>\n",
       "      <td>...</td>\n",
       "      <td>-0.001217</td>\n",
       "      <td>-0.001085</td>\n",
       "      <td>0.001103</td>\n",
       "      <td>-0.001046</td>\n",
       "      <td>0.001163</td>\n",
       "      <td>-0.002314</td>\n",
       "      <td>0.002145</td>\n",
       "      <td>0.0</td>\n",
       "      <td>0.0</td>\n",
       "      <td>0.000367</td>\n",
       "    </tr>\n",
       "  </tbody>\n",
       "</table>\n",
       "<p>5 rows × 16979 columns</p>\n",
       "</div>"
      ],
      "text/plain": [
       "      0         1         2         3         4         5         6      \\\n",
       "0 -0.108217 -0.012148  0.207660  0.116254 -0.018404 -0.008025  0.025870   \n",
       "1  0.006121 -0.004489 -0.022790  0.110287 -0.032111  0.000457  0.008041   \n",
       "2  0.005672 -0.011155 -0.003710  0.007297  0.036504 -0.006043  0.002950   \n",
       "3 -0.000598  0.007160 -0.018280  0.011815  0.000643  0.007045 -0.000263   \n",
       "4  0.003032  0.018895  0.009498  0.009376 -0.005467  0.002482  0.006292   \n",
       "\n",
       "      7         8         9        ...        16969     16970     16971  \\\n",
       "0 -0.003720  0.013988  0.008246    ...    -0.007290  0.002763 -0.004214   \n",
       "1  0.015893  0.014139  0.003591    ...    -0.005871 -0.006162  0.001106   \n",
       "2 -0.006832  0.003880  0.000958    ...     0.000882 -0.000410 -0.005494   \n",
       "3  0.007097  0.000032  0.004871    ...    -0.001925 -0.000018 -0.000692   \n",
       "4  0.003004  0.010248  0.001656    ...    -0.001217 -0.001085  0.001103   \n",
       "\n",
       "      16972     16973     16974     16975  16976  16977     16978  \n",
       "0  0.006010 -0.002886  0.012461 -0.007043    0.0    0.0 -0.004424  \n",
       "1 -0.000193 -0.006080 -0.011805  0.001606    0.0    0.0 -0.001275  \n",
       "2  0.001048 -0.001947 -0.000304  0.002074    0.0    0.0 -0.000467  \n",
       "3 -0.000693 -0.001710 -0.000841  0.002519    0.0    0.0 -0.000182  \n",
       "4 -0.001046  0.001163 -0.002314  0.002145    0.0    0.0  0.000367  \n",
       "\n",
       "[5 rows x 16979 columns]"
      ]
     },
     "execution_count": 110,
     "metadata": {},
     "output_type": "execute_result"
    }
   ],
   "source": [
    "preds_df.head()"
   ]
  },
  {
   "cell_type": "code",
   "execution_count": 111,
   "metadata": {},
   "outputs": [],
   "source": [
    "recommendations = (DF2[~DF2['doc.id'].isin(UR.iloc[user_row_number].values[0])].\n",
    "merge(pd.DataFrame(sorted_user_predictions).reset_index(), how = 'left',\n",
    "               left_on = 'doc.id',\n",
    "               right_on = 'index'))"
   ]
  },
  {
   "cell_type": "code",
   "execution_count": 112,
   "metadata": {},
   "outputs": [],
   "source": [
    "recommendations.rename(columns = {user_row_number: 'Predictions'},inplace=True)"
   ]
  },
  {
   "cell_type": "code",
   "execution_count": 113,
   "metadata": {},
   "outputs": [],
   "source": [
    "recommendations.drop('index',axis=1,inplace=True)"
   ]
  },
  {
   "cell_type": "code",
   "execution_count": 114,
   "metadata": {},
   "outputs": [],
   "source": [
    "recommendations.sort_values('Predictions', ascending = False,inplace=True)"
   ]
  },
  {
   "cell_type": "code",
   "execution_count": 115,
   "metadata": {},
   "outputs": [
    {
     "ename": "NameError",
     "evalue": "name 'BARRIER' is not defined",
     "output_type": "error",
     "traceback": [
      "\u001b[0;31m---------------------------------------------------------------------------\u001b[0m",
      "\u001b[0;31mNameError\u001b[0m                                 Traceback (most recent call last)",
      "\u001b[0;32m<ipython-input-115-f51e5db99a67>\u001b[0m in \u001b[0;36m<module>\u001b[0;34m()\u001b[0m\n\u001b[0;32m----> 1\u001b[0;31m \u001b[0mBARRIER\u001b[0m\u001b[0;34m(\u001b[0m\u001b[0;34m)\u001b[0m\u001b[0;34m;\u001b[0m\u001b[0;34m\u001b[0m\u001b[0m\n\u001b[0m",
      "\u001b[0;31mNameError\u001b[0m: name 'BARRIER' is not defined"
     ]
    }
   ],
   "source": [
    "BARRIER();"
   ]
  },
  {
   "cell_type": "code",
   "execution_count": 117,
   "metadata": {},
   "outputs": [
    {
     "data": {
      "text/html": [
       "<div>\n",
       "<style>\n",
       "    .dataframe thead tr:only-child th {\n",
       "        text-align: right;\n",
       "    }\n",
       "\n",
       "    .dataframe thead th {\n",
       "        text-align: left;\n",
       "    }\n",
       "\n",
       "    .dataframe tbody tr th {\n",
       "        vertical-align: top;\n",
       "    }\n",
       "</style>\n",
       "<table border=\"1\" class=\"dataframe\">\n",
       "  <thead>\n",
       "    <tr style=\"text-align: right;\">\n",
       "      <th></th>\n",
       "      <th>doc.id</th>\n",
       "      <th>raw.title</th>\n",
       "      <th>raw.abstract</th>\n",
       "      <th>Predictions</th>\n",
       "    </tr>\n",
       "  </thead>\n",
       "  <tbody>\n",
       "    <tr>\n",
       "      <th>6950</th>\n",
       "      <td>6994</td>\n",
       "      <td>An evaluation of GO annotation retrieval for B...</td>\n",
       "      <td>BACKGROUND: The Gene Ontology Annotation (GOA)...</td>\n",
       "      <td>0.135961</td>\n",
       "    </tr>\n",
       "    <tr>\n",
       "      <th>16465</th>\n",
       "      <td>16700</td>\n",
       "      <td>Missing heritability and strategies for findin...</td>\n",
       "      <td>Although recent genome-wide studies have prov...</td>\n",
       "      <td>0.116110</td>\n",
       "    </tr>\n",
       "    <tr>\n",
       "      <th>8553</th>\n",
       "      <td>8609</td>\n",
       "      <td>The Origin of Species</td>\n",
       "      <td>{It's hard to talk about &lt;I&gt;The Origin of Spec...</td>\n",
       "      <td>0.114067</td>\n",
       "    </tr>\n",
       "    <tr>\n",
       "      <th>15767</th>\n",
       "      <td>15968</td>\n",
       "      <td>Analyzing biological network parameters with C...</td>\n",
       "      <td>Summary: The increasing availability of large ...</td>\n",
       "      <td>0.113460</td>\n",
       "    </tr>\n",
       "    <tr>\n",
       "      <th>14267</th>\n",
       "      <td>14425</td>\n",
       "      <td>Cavity Optomechanics: Back-Action at the Mesos...</td>\n",
       "      <td>The coupling of optical and mechanical degrees...</td>\n",
       "      <td>0.111159</td>\n",
       "    </tr>\n",
       "    <tr>\n",
       "      <th>5326</th>\n",
       "      <td>5360</td>\n",
       "      <td>Using latent semantic analysis to identify sim...</td>\n",
       "      <td>The paper describes the results of applying La...</td>\n",
       "      <td>0.107685</td>\n",
       "    </tr>\n",
       "    <tr>\n",
       "      <th>10162</th>\n",
       "      <td>10236</td>\n",
       "      <td>Repression of protein synthesis by miRNAs: how...</td>\n",
       "      <td>MicroRNAs are 21-nucleotide-long regulators o...</td>\n",
       "      <td>0.103802</td>\n",
       "    </tr>\n",
       "    <tr>\n",
       "      <th>3876</th>\n",
       "      <td>3899</td>\n",
       "      <td>Analysis of molecular variance inferred from m...</td>\n",
       "      <td>We present here a framework for the study of m...</td>\n",
       "      <td>0.100829</td>\n",
       "    </tr>\n",
       "    <tr>\n",
       "      <th>10970</th>\n",
       "      <td>11054</td>\n",
       "      <td>Statistical significance of quantitative PCR.</td>\n",
       "      <td>ABSTRACT: BACKGROUND: PCR has the potential to...</td>\n",
       "      <td>0.098031</td>\n",
       "    </tr>\n",
       "    <tr>\n",
       "      <th>9351</th>\n",
       "      <td>9418</td>\n",
       "      <td>MEME: discovering and analyzing DNA and protei...</td>\n",
       "      <td>{MEME} {(Multiple} {EM} for Motif Elicitation)...</td>\n",
       "      <td>0.095402</td>\n",
       "    </tr>\n",
       "  </tbody>\n",
       "</table>\n",
       "</div>"
      ],
      "text/plain": [
       "       doc.id                                          raw.title  \\\n",
       "6950     6994  An evaluation of GO annotation retrieval for B...   \n",
       "16465   16700  Missing heritability and strategies for findin...   \n",
       "8553     8609                              The Origin of Species   \n",
       "15767   15968  Analyzing biological network parameters with C...   \n",
       "14267   14425  Cavity Optomechanics: Back-Action at the Mesos...   \n",
       "5326     5360  Using latent semantic analysis to identify sim...   \n",
       "10162   10236  Repression of protein synthesis by miRNAs: how...   \n",
       "3876     3899  Analysis of molecular variance inferred from m...   \n",
       "10970   11054      Statistical significance of quantitative PCR.   \n",
       "9351     9418  MEME: discovering and analyzing DNA and protei...   \n",
       "\n",
       "                                            raw.abstract  Predictions  \n",
       "6950   BACKGROUND: The Gene Ontology Annotation (GOA)...     0.135961  \n",
       "16465   Although recent genome-wide studies have prov...     0.116110  \n",
       "8553   {It's hard to talk about <I>The Origin of Spec...     0.114067  \n",
       "15767  Summary: The increasing availability of large ...     0.113460  \n",
       "14267  The coupling of optical and mechanical degrees...     0.111159  \n",
       "5326   The paper describes the results of applying La...     0.107685  \n",
       "10162   MicroRNAs are 21-nucleotide-long regulators o...     0.103802  \n",
       "3876   We present here a framework for the study of m...     0.100829  \n",
       "10970  ABSTRACT: BACKGROUND: PCR has the potential to...     0.098031  \n",
       "9351   {MEME} {(Multiple} {EM} for Motif Elicitation)...     0.095402  "
      ]
     },
     "execution_count": 117,
     "metadata": {},
     "output_type": "execute_result"
    }
   ],
   "source": [
    "# k = 200\n",
    "recommendations.head(N)"
   ]
  },
  {
   "cell_type": "code",
   "execution_count": null,
   "metadata": {},
   "outputs": [],
   "source": [
    "C=recommendations['doc.id'].head(10).tolist()"
   ]
  },
  {
   "cell_type": "code",
   "execution_count": null,
   "metadata": {},
   "outputs": [],
   "source": [
    "A=UR['liked_articles'].iloc[user_row_number]"
   ]
  },
  {
   "cell_type": "code",
   "execution_count": null,
   "metadata": {},
   "outputs": [],
   "source": [
    "sorted(C)"
   ]
  },
  {
   "cell_type": "code",
   "execution_count": null,
   "metadata": {},
   "outputs": [],
   "source": [
    "DF2[~DF2['doc.id'].isin(UR.iloc[user_row_number].values[0])].index"
   ]
  },
  {
   "cell_type": "code",
   "execution_count": null,
   "metadata": {},
   "outputs": [],
   "source": [
    "A = list(map(int, A))"
   ]
  },
  {
   "cell_type": "code",
   "execution_count": null,
   "metadata": {},
   "outputs": [],
   "source": [
    "sorted(A)"
   ]
  },
  {
   "cell_type": "code",
   "execution_count": null,
   "metadata": {},
   "outputs": [],
   "source": [
    "set(C) & set(DF2[~DF2['doc.id'].isin(UR.iloc[user_row_number].values[0])].index)"
   ]
  },
  {
   "cell_type": "code",
   "execution_count": null,
   "metadata": {},
   "outputs": [],
   "source": [
    "# k = 200\n",
    "recommendations.head(N)"
   ]
  },
  {
   "cell_type": "code",
   "execution_count": null,
   "metadata": {},
   "outputs": [],
   "source": [
    "# k = 85\n",
    "recommendations.head(N)"
   ]
  },
  {
   "cell_type": "code",
   "execution_count": null,
   "metadata": {},
   "outputs": [],
   "source": [
    "# k = 85\n",
    "recommendations.head(N)"
   ]
  },
  {
   "cell_type": "code",
   "execution_count": null,
   "metadata": {},
   "outputs": [],
   "source": [
    "# k = 85\n",
    "recommendations.head(N)"
   ]
  },
  {
   "cell_type": "code",
   "execution_count": null,
   "metadata": {},
   "outputs": [],
   "source": [
    "# k = 80\n",
    "recommendations.head(N)"
   ]
  },
  {
   "cell_type": "code",
   "execution_count": null,
   "metadata": {},
   "outputs": [],
   "source": [
    "# k = 75\n",
    "recommendations.head(N)"
   ]
  },
  {
   "cell_type": "code",
   "execution_count": null,
   "metadata": {},
   "outputs": [],
   "source": [
    "# k=50\n",
    "recommendations.head(N)"
   ]
  },
  {
   "cell_type": "code",
   "execution_count": null,
   "metadata": {},
   "outputs": [],
   "source": [
    "# k=100\n",
    "recommendations.head(N)"
   ]
  },
  {
   "cell_type": "code",
   "execution_count": null,
   "metadata": {},
   "outputs": [],
   "source": [
    "# k=400\n",
    "recommendations.head(N)"
   ]
  },
  {
   "cell_type": "code",
   "execution_count": null,
   "metadata": {},
   "outputs": [],
   "source": [
    "# k=300\n",
    "recommendations.head(N)"
   ]
  },
  {
   "cell_type": "code",
   "execution_count": null,
   "metadata": {},
   "outputs": [],
   "source": [
    "# k=200\n",
    "recommendations.head(N)"
   ]
  },
  {
   "cell_type": "code",
   "execution_count": null,
   "metadata": {},
   "outputs": [],
   "source": [
    "recommendations.head(N)"
   ]
  },
  {
   "cell_type": "code",
   "execution_count": null,
   "metadata": {},
   "outputs": [],
   "source": [
    "recommendations.head(N)"
   ]
  },
  {
   "cell_type": "code",
   "execution_count": 48,
   "metadata": {},
   "outputs": [],
   "source": [
    "recommendations.head(N)\n",
    "\n",
    "docId = DF2['doc.id']\n",
    "\n",
    "docId[len(docId)-1]\n",
    "\n",
    "del CountVectorizer\n",
    "del Counter\n",
    "del IdFreq\n",
    "del LogisticRegression\n",
    "del TfidfVectorizer\n",
    "del tfidf_matrix\n",
    "del nbrs_tfidf\n",
    "del tfidf_vectorizer\n",
    "\n",
    "DF2.drop(['citeulike.id','title','citations'],axis=1,inplace=True)\n",
    "\n",
    "M = np.zeros(shape=(len(UR),len(docId)))\n",
    "\n",
    "for i, row in UR.iterrows():\n",
    "    for j in range(len(row['liked_articles'])-1):\n",
    "        M[i,int(row['liked_articles'][j])]=1\n",
    "\n",
    "BARRIER();\n",
    "\n",
    "#del UR\n",
    "del docId\n",
    "\n",
    "user_ratings_mean = np.sum(M, axis = 1)\n",
    "\n",
    "from scipy.sparse.linalg import svds\n",
    "\n",
    "U, sigma, Vt = svds(M, k = 500)\n",
    "\n",
    "sigma = np.diag(sigma)\n",
    "\n",
    "print(U.shape,Vt.shape)\n",
    "\n",
    "all_user_predicted_ratings = (np.dot(np.dot(U, sigma), Vt))# + \n",
    "                              #user_ratings_mean.reshape(-1, 1))/user_ratings_mean.reshape(-1, 1)\n",
    "\n",
    "preds_df = pd.DataFrame(all_user_predicted_ratings)\n",
    "\n",
    "## Recommending for user #:\n",
    "\n",
    "user_row_number=598\n",
    "\n",
    "sorted_user_predictions = preds_df.iloc[user_row_number].sort_values(ascending=False)\n",
    "\n",
    "preds_df.head()"
   ]
  }
 ],
 "metadata": {
  "kernelspec": {
   "display_name": "Python 3",
   "language": "python",
   "name": "python3"
  },
  "language_info": {
   "codemirror_mode": {
    "name": "ipython",
    "version": 3
   },
   "file_extension": ".py",
   "mimetype": "text/x-python",
   "name": "python",
   "nbconvert_exporter": "python",
   "pygments_lexer": "ipython3",
   "version": "3.5.2"
  }
 },
 "nbformat": 4,
 "nbformat_minor": 2
}
